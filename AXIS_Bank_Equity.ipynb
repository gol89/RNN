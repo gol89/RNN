{
 "cells": [
  {
   "cell_type": "markdown",
   "metadata": {},
   "source": [
    "### We will analyze the share price of axis bank and will try to predict the same ."
   ]
  },
  {
   "cell_type": "code",
   "execution_count": 1,
   "metadata": {},
   "outputs": [],
   "source": [
    "import numpy as np \n",
    "import pandas as pd \n",
    "import matplotlib.pyplot as plt\n",
    "%matplotlib inline "
   ]
  },
  {
   "cell_type": "code",
   "execution_count": 2,
   "metadata": {},
   "outputs": [],
   "source": [
    "from matplotlib.pylab import rcParams\n",
    "rcParams['figure.figsize'] = 20,10"
   ]
  },
  {
   "cell_type": "code",
   "execution_count": 3,
   "metadata": {},
   "outputs": [],
   "source": [
    "from sklearn.preprocessing import MinMaxScaler\n",
    "scaler = MinMaxScaler(feature_range=(0,1))"
   ]
  },
  {
   "cell_type": "code",
   "execution_count": 4,
   "metadata": {},
   "outputs": [],
   "source": [
    "df = pd.read_csv('AXISBANK365.csv')"
   ]
  },
  {
   "cell_type": "code",
   "execution_count": 5,
   "metadata": {},
   "outputs": [
    {
     "data": {
      "text/html": [
       "<div>\n",
       "<style scoped>\n",
       "    .dataframe tbody tr th:only-of-type {\n",
       "        vertical-align: middle;\n",
       "    }\n",
       "\n",
       "    .dataframe tbody tr th {\n",
       "        vertical-align: top;\n",
       "    }\n",
       "\n",
       "    .dataframe thead th {\n",
       "        text-align: right;\n",
       "    }\n",
       "</style>\n",
       "<table border=\"1\" class=\"dataframe\">\n",
       "  <thead>\n",
       "    <tr style=\"text-align: right;\">\n",
       "      <th></th>\n",
       "      <th>Symbol</th>\n",
       "      <th>Series</th>\n",
       "      <th>Date</th>\n",
       "      <th>Prev Close</th>\n",
       "      <th>Open Price</th>\n",
       "      <th>High Price</th>\n",
       "      <th>Low Price</th>\n",
       "      <th>Last Price</th>\n",
       "      <th>Close Price</th>\n",
       "      <th>Average Price</th>\n",
       "      <th>Total Traded Quantity</th>\n",
       "      <th>Turnover</th>\n",
       "      <th>No. of Trades</th>\n",
       "      <th>Deliverable Qty</th>\n",
       "      <th>% Dly Qt to Traded Qty</th>\n",
       "    </tr>\n",
       "  </thead>\n",
       "  <tbody>\n",
       "    <tr>\n",
       "      <th>0</th>\n",
       "      <td>AXISBANK</td>\n",
       "      <td>EQ</td>\n",
       "      <td>18-Oct-2019</td>\n",
       "      <td>710.30</td>\n",
       "      <td>709.85</td>\n",
       "      <td>715.7</td>\n",
       "      <td>705.25</td>\n",
       "      <td>710.35</td>\n",
       "      <td>709.55</td>\n",
       "      <td>710.02</td>\n",
       "      <td>9500635</td>\n",
       "      <td>6.745626e+09</td>\n",
       "      <td>104518</td>\n",
       "      <td>2654760</td>\n",
       "      <td>27.94</td>\n",
       "    </tr>\n",
       "    <tr>\n",
       "      <th>1</th>\n",
       "      <td>AXISBANK</td>\n",
       "      <td>EQ</td>\n",
       "      <td>22-Oct-2019</td>\n",
       "      <td>709.55</td>\n",
       "      <td>712.40</td>\n",
       "      <td>723.0</td>\n",
       "      <td>703.30</td>\n",
       "      <td>713.25</td>\n",
       "      <td>712.75</td>\n",
       "      <td>715.70</td>\n",
       "      <td>9704016</td>\n",
       "      <td>6.945190e+09</td>\n",
       "      <td>173046</td>\n",
       "      <td>3447622</td>\n",
       "      <td>35.53</td>\n",
       "    </tr>\n",
       "  </tbody>\n",
       "</table>\n",
       "</div>"
      ],
      "text/plain": [
       "     Symbol Series         Date  Prev Close  Open Price  High Price  \\\n",
       "0  AXISBANK     EQ  18-Oct-2019      710.30      709.85       715.7   \n",
       "1  AXISBANK     EQ  22-Oct-2019      709.55      712.40       723.0   \n",
       "\n",
       "   Low Price  Last Price  Close Price  Average Price  Total Traded Quantity  \\\n",
       "0     705.25      710.35       709.55         710.02                9500635   \n",
       "1     703.30      713.25       712.75         715.70                9704016   \n",
       "\n",
       "       Turnover  No. of Trades  Deliverable Qty  % Dly Qt to Traded Qty  \n",
       "0  6.745626e+09         104518          2654760                   27.94  \n",
       "1  6.945190e+09         173046          3447622                   35.53  "
      ]
     },
     "execution_count": 5,
     "metadata": {},
     "output_type": "execute_result"
    }
   ],
   "source": [
    "df.head(2)"
   ]
  },
  {
   "cell_type": "code",
   "execution_count": 6,
   "metadata": {},
   "outputs": [
    {
     "data": {
      "text/plain": [
       "dtype('O')"
      ]
     },
     "execution_count": 6,
     "metadata": {},
     "output_type": "execute_result"
    }
   ],
   "source": [
    "df['Date'].dtype"
   ]
  },
  {
   "cell_type": "code",
   "execution_count": 7,
   "metadata": {},
   "outputs": [],
   "source": [
    "df['Date'] = pd.to_datetime(df.Date)"
   ]
  },
  {
   "cell_type": "code",
   "execution_count": 8,
   "metadata": {},
   "outputs": [
    {
     "data": {
      "text/plain": [
       "0   2019-10-18\n",
       "1   2019-10-22\n",
       "Name: Date, dtype: datetime64[ns]"
      ]
     },
     "execution_count": 8,
     "metadata": {},
     "output_type": "execute_result"
    }
   ],
   "source": [
    "df['Date'][:2]"
   ]
  },
  {
   "cell_type": "code",
   "execution_count": 9,
   "metadata": {},
   "outputs": [
    {
     "data": {
      "text/plain": [
       "dtype('<M8[ns]')"
      ]
     },
     "execution_count": 9,
     "metadata": {},
     "output_type": "execute_result"
    }
   ],
   "source": [
    "df['Date'].dtype"
   ]
  },
  {
   "cell_type": "code",
   "execution_count": 10,
   "metadata": {},
   "outputs": [],
   "source": [
    "df.index = df['Date']"
   ]
  },
  {
   "cell_type": "code",
   "execution_count": 11,
   "metadata": {},
   "outputs": [
    {
     "data": {
      "text/plain": [
       "DatetimeIndex(['2019-10-18', '2019-10-22'], dtype='datetime64[ns]', name='Date', freq=None)"
      ]
     },
     "execution_count": 11,
     "metadata": {},
     "output_type": "execute_result"
    }
   ],
   "source": [
    "df.index[:2]"
   ]
  },
  {
   "cell_type": "code",
   "execution_count": 12,
   "metadata": {},
   "outputs": [
    {
     "data": {
      "text/html": [
       "<div>\n",
       "<style scoped>\n",
       "    .dataframe tbody tr th:only-of-type {\n",
       "        vertical-align: middle;\n",
       "    }\n",
       "\n",
       "    .dataframe tbody tr th {\n",
       "        vertical-align: top;\n",
       "    }\n",
       "\n",
       "    .dataframe thead th {\n",
       "        text-align: right;\n",
       "    }\n",
       "</style>\n",
       "<table border=\"1\" class=\"dataframe\">\n",
       "  <thead>\n",
       "    <tr style=\"text-align: right;\">\n",
       "      <th></th>\n",
       "      <th>Symbol</th>\n",
       "      <th>Series</th>\n",
       "      <th>Date</th>\n",
       "      <th>Prev Close</th>\n",
       "      <th>Open Price</th>\n",
       "      <th>High Price</th>\n",
       "      <th>Low Price</th>\n",
       "      <th>Last Price</th>\n",
       "      <th>Close Price</th>\n",
       "      <th>Average Price</th>\n",
       "      <th>Total Traded Quantity</th>\n",
       "      <th>Turnover</th>\n",
       "      <th>No. of Trades</th>\n",
       "      <th>Deliverable Qty</th>\n",
       "      <th>% Dly Qt to Traded Qty</th>\n",
       "    </tr>\n",
       "    <tr>\n",
       "      <th>Date</th>\n",
       "      <th></th>\n",
       "      <th></th>\n",
       "      <th></th>\n",
       "      <th></th>\n",
       "      <th></th>\n",
       "      <th></th>\n",
       "      <th></th>\n",
       "      <th></th>\n",
       "      <th></th>\n",
       "      <th></th>\n",
       "      <th></th>\n",
       "      <th></th>\n",
       "      <th></th>\n",
       "      <th></th>\n",
       "      <th></th>\n",
       "    </tr>\n",
       "  </thead>\n",
       "  <tbody>\n",
       "    <tr>\n",
       "      <th>2019-10-18</th>\n",
       "      <td>AXISBANK</td>\n",
       "      <td>EQ</td>\n",
       "      <td>2019-10-18</td>\n",
       "      <td>710.30</td>\n",
       "      <td>709.85</td>\n",
       "      <td>715.7</td>\n",
       "      <td>705.25</td>\n",
       "      <td>710.35</td>\n",
       "      <td>709.55</td>\n",
       "      <td>710.02</td>\n",
       "      <td>9500635</td>\n",
       "      <td>6.745626e+09</td>\n",
       "      <td>104518</td>\n",
       "      <td>2654760</td>\n",
       "      <td>27.94</td>\n",
       "    </tr>\n",
       "    <tr>\n",
       "      <th>2019-10-22</th>\n",
       "      <td>AXISBANK</td>\n",
       "      <td>EQ</td>\n",
       "      <td>2019-10-22</td>\n",
       "      <td>709.55</td>\n",
       "      <td>712.40</td>\n",
       "      <td>723.0</td>\n",
       "      <td>703.30</td>\n",
       "      <td>713.25</td>\n",
       "      <td>712.75</td>\n",
       "      <td>715.70</td>\n",
       "      <td>9704016</td>\n",
       "      <td>6.945190e+09</td>\n",
       "      <td>173046</td>\n",
       "      <td>3447622</td>\n",
       "      <td>35.53</td>\n",
       "    </tr>\n",
       "  </tbody>\n",
       "</table>\n",
       "</div>"
      ],
      "text/plain": [
       "              Symbol Series       Date  Prev Close  Open Price  High Price  \\\n",
       "Date                                                                         \n",
       "2019-10-18  AXISBANK     EQ 2019-10-18      710.30      709.85       715.7   \n",
       "2019-10-22  AXISBANK     EQ 2019-10-22      709.55      712.40       723.0   \n",
       "\n",
       "            Low Price  Last Price  Close Price  Average Price  \\\n",
       "Date                                                            \n",
       "2019-10-18     705.25      710.35       709.55         710.02   \n",
       "2019-10-22     703.30      713.25       712.75         715.70   \n",
       "\n",
       "            Total Traded Quantity      Turnover  No. of Trades  \\\n",
       "Date                                                             \n",
       "2019-10-18                9500635  6.745626e+09         104518   \n",
       "2019-10-22                9704016  6.945190e+09         173046   \n",
       "\n",
       "            Deliverable Qty  % Dly Qt to Traded Qty  \n",
       "Date                                                 \n",
       "2019-10-18          2654760                   27.94  \n",
       "2019-10-22          3447622                   35.53  "
      ]
     },
     "execution_count": 12,
     "metadata": {},
     "output_type": "execute_result"
    }
   ],
   "source": [
    "df.head(2)"
   ]
  },
  {
   "cell_type": "code",
   "execution_count": 13,
   "metadata": {},
   "outputs": [
    {
     "data": {
      "text/plain": [
       "[<matplotlib.lines.Line2D at 0x13ed4f30520>]"
      ]
     },
     "execution_count": 13,
     "metadata": {},
     "output_type": "execute_result"
    },
    {
     "data": {
      "image/png": "[encoded data removed]",
      "text/plain": [
       "<Figure size 1152x576 with 1 Axes>"
      ]
     },
     "metadata": {
      "needs_background": "light"
     },
     "output_type": "display_data"
    }
   ],
   "source": [
    "plt.figure(figsize=(16,8))\n",
    "plt.plot(df['Close Price'],label='Close Price History')\n",
    "#plt.plot(df['Open Price'],label='Close Price History')\n",
    "#plt.plot(df['High Price'],label='Close Price History')"
   ]
  },
  {
   "cell_type": "code",
   "execution_count": 14,
   "metadata": {},
   "outputs": [
    {
     "data": {
      "text/html": [
       "<div>\n",
       "<style scoped>\n",
       "    .dataframe tbody tr th:only-of-type {\n",
       "        vertical-align: middle;\n",
       "    }\n",
       "\n",
       "    .dataframe tbody tr th {\n",
       "        vertical-align: top;\n",
       "    }\n",
       "\n",
       "    .dataframe thead th {\n",
       "        text-align: right;\n",
       "    }\n",
       "</style>\n",
       "<table border=\"1\" class=\"dataframe\">\n",
       "  <thead>\n",
       "    <tr style=\"text-align: right;\">\n",
       "      <th></th>\n",
       "      <th>count</th>\n",
       "      <th>mean</th>\n",
       "      <th>std</th>\n",
       "      <th>min</th>\n",
       "      <th>25%</th>\n",
       "      <th>50%</th>\n",
       "      <th>75%</th>\n",
       "      <th>max</th>\n",
       "    </tr>\n",
       "  </thead>\n",
       "  <tbody>\n",
       "    <tr>\n",
       "      <th>Prev Close</th>\n",
       "      <td>250.0</td>\n",
       "      <td>5.481396e+02</td>\n",
       "      <td>1.532098e+02</td>\n",
       "      <td>3.031500e+02</td>\n",
       "      <td>4.251000e+02</td>\n",
       "      <td>4.544750e+02</td>\n",
       "      <td>7.292875e+02</td>\n",
       "      <td>7.601500e+02</td>\n",
       "    </tr>\n",
       "    <tr>\n",
       "      <th>Open Price</th>\n",
       "      <td>250.0</td>\n",
       "      <td>5.488254e+02</td>\n",
       "      <td>1.524535e+02</td>\n",
       "      <td>2.935000e+02</td>\n",
       "      <td>4.266250e+02</td>\n",
       "      <td>4.537000e+02</td>\n",
       "      <td>7.292250e+02</td>\n",
       "      <td>7.609000e+02</td>\n",
       "    </tr>\n",
       "    <tr>\n",
       "      <th>High Price</th>\n",
       "      <td>250.0</td>\n",
       "      <td>5.584824e+02</td>\n",
       "      <td>1.505978e+02</td>\n",
       "      <td>3.375000e+02</td>\n",
       "      <td>4.358250e+02</td>\n",
       "      <td>4.636000e+02</td>\n",
       "      <td>7.377000e+02</td>\n",
       "      <td>7.658500e+02</td>\n",
       "    </tr>\n",
       "    <tr>\n",
       "      <th>Low Price</th>\n",
       "      <td>250.0</td>\n",
       "      <td>5.374530e+02</td>\n",
       "      <td>1.543275e+02</td>\n",
       "      <td>2.860000e+02</td>\n",
       "      <td>4.154750e+02</td>\n",
       "      <td>4.457000e+02</td>\n",
       "      <td>7.219250e+02</td>\n",
       "      <td>7.514000e+02</td>\n",
       "    </tr>\n",
       "    <tr>\n",
       "      <th>Last Price</th>\n",
       "      <td>250.0</td>\n",
       "      <td>5.474640e+02</td>\n",
       "      <td>1.526647e+02</td>\n",
       "      <td>3.048000e+02</td>\n",
       "      <td>4.260000e+02</td>\n",
       "      <td>4.534000e+02</td>\n",
       "      <td>7.295750e+02</td>\n",
       "      <td>7.609000e+02</td>\n",
       "    </tr>\n",
       "    <tr>\n",
       "      <th>Close Price</th>\n",
       "      <td>250.0</td>\n",
       "      <td>5.471880e+02</td>\n",
       "      <td>1.529371e+02</td>\n",
       "      <td>3.031500e+02</td>\n",
       "      <td>4.251000e+02</td>\n",
       "      <td>4.544750e+02</td>\n",
       "      <td>7.292875e+02</td>\n",
       "      <td>7.601500e+02</td>\n",
       "    </tr>\n",
       "    <tr>\n",
       "      <th>Average Price</th>\n",
       "      <td>250.0</td>\n",
       "      <td>5.478476e+02</td>\n",
       "      <td>1.525749e+02</td>\n",
       "      <td>3.114100e+02</td>\n",
       "      <td>4.250700e+02</td>\n",
       "      <td>4.531800e+02</td>\n",
       "      <td>7.294475e+02</td>\n",
       "      <td>7.583200e+02</td>\n",
       "    </tr>\n",
       "    <tr>\n",
       "      <th>Total Traded Quantity</th>\n",
       "      <td>250.0</td>\n",
       "      <td>2.447318e+07</td>\n",
       "      <td>1.750981e+07</td>\n",
       "      <td>9.657720e+05</td>\n",
       "      <td>8.974205e+06</td>\n",
       "      <td>2.069700e+07</td>\n",
       "      <td>3.548943e+07</td>\n",
       "      <td>9.619027e+07</td>\n",
       "    </tr>\n",
       "    <tr>\n",
       "      <th>Turnover</th>\n",
       "      <td>250.0</td>\n",
       "      <td>1.135256e+10</td>\n",
       "      <td>6.356480e+09</td>\n",
       "      <td>6.869613e+08</td>\n",
       "      <td>6.457189e+09</td>\n",
       "      <td>9.624594e+09</td>\n",
       "      <td>1.475122e+10</td>\n",
       "      <td>4.223716e+10</td>\n",
       "    </tr>\n",
       "    <tr>\n",
       "      <th>No. of Trades</th>\n",
       "      <td>250.0</td>\n",
       "      <td>2.571650e+05</td>\n",
       "      <td>1.644034e+05</td>\n",
       "      <td>1.552600e+04</td>\n",
       "      <td>1.320158e+05</td>\n",
       "      <td>2.088945e+05</td>\n",
       "      <td>3.504938e+05</td>\n",
       "      <td>9.907370e+05</td>\n",
       "    </tr>\n",
       "    <tr>\n",
       "      <th>Deliverable Qty</th>\n",
       "      <td>250.0</td>\n",
       "      <td>6.502945e+06</td>\n",
       "      <td>4.384132e+06</td>\n",
       "      <td>2.312170e+05</td>\n",
       "      <td>3.330026e+06</td>\n",
       "      <td>5.106386e+06</td>\n",
       "      <td>8.883484e+06</td>\n",
       "      <td>2.728750e+07</td>\n",
       "    </tr>\n",
       "    <tr>\n",
       "      <th>% Dly Qt to Traded Qty</th>\n",
       "      <td>250.0</td>\n",
       "      <td>3.040280e+01</td>\n",
       "      <td>1.081745e+01</td>\n",
       "      <td>1.254000e+01</td>\n",
       "      <td>2.158000e+01</td>\n",
       "      <td>2.917500e+01</td>\n",
       "      <td>3.919500e+01</td>\n",
       "      <td>5.670000e+01</td>\n",
       "    </tr>\n",
       "  </tbody>\n",
       "</table>\n",
       "</div>"
      ],
      "text/plain": [
       "                        count          mean           std           min  \\\n",
       "Prev Close              250.0  5.481396e+02  1.532098e+02  3.031500e+02   \n",
       "Open Price              250.0  5.488254e+02  1.524535e+02  2.935000e+02   \n",
       "High Price              250.0  5.584824e+02  1.505978e+02  3.375000e+02   \n",
       "Low Price               250.0  5.374530e+02  1.543275e+02  2.860000e+02   \n",
       "Last Price              250.0  5.474640e+02  1.526647e+02  3.048000e+02   \n",
       "Close Price             250.0  5.471880e+02  1.529371e+02  3.031500e+02   \n",
       "Average Price           250.0  5.478476e+02  1.525749e+02  3.114100e+02   \n",
       "Total Traded Quantity   250.0  2.447318e+07  1.750981e+07  9.657720e+05   \n",
       "Turnover                250.0  1.135256e+10  6.356480e+09  6.869613e+08   \n",
       "No. of Trades           250.0  2.571650e+05  1.644034e+05  1.552600e+04   \n",
       "Deliverable Qty         250.0  6.502945e+06  4.384132e+06  2.312170e+05   \n",
       "% Dly Qt to Traded Qty  250.0  3.040280e+01  1.081745e+01  1.254000e+01   \n",
       "\n",
       "                                 25%           50%           75%           max  \n",
       "Prev Close              4.251000e+02  4.544750e+02  7.292875e+02  7.601500e+02  \n",
       "Open Price              4.266250e+02  4.537000e+02  7.292250e+02  7.609000e+02  \n",
       "High Price              4.358250e+02  4.636000e+02  7.377000e+02  7.658500e+02  \n",
       "Low Price               4.154750e+02  4.457000e+02  7.219250e+02  7.514000e+02  \n",
       "Last Price              4.260000e+02  4.534000e+02  7.295750e+02  7.609000e+02  \n",
       "Close Price             4.251000e+02  4.544750e+02  7.292875e+02  7.601500e+02  \n",
       "Average Price           4.250700e+02  4.531800e+02  7.294475e+02  7.583200e+02  \n",
       "Total Traded Quantity   8.974205e+06  2.069700e+07  3.548943e+07  9.619027e+07  \n",
       "Turnover                6.457189e+09  9.624594e+09  1.475122e+10  4.223716e+10  \n",
       "No. of Trades           1.320158e+05  2.088945e+05  3.504938e+05  9.907370e+05  \n",
       "Deliverable Qty         3.330026e+06  5.106386e+06  8.883484e+06  2.728750e+07  \n",
       "% Dly Qt to Traded Qty  2.158000e+01  2.917500e+01  3.919500e+01  5.670000e+01  "
      ]
     },
     "execution_count": 14,
     "metadata": {},
     "output_type": "execute_result"
    }
   ],
   "source": [
    "df.describe().T"
   ]
  },
  {
   "cell_type": "code",
   "execution_count": 15,
   "metadata": {},
   "outputs": [
    {
     "name": "stdout",
     "output_type": "stream",
     "text": [
      "<class 'pandas.core.frame.DataFrame'>\n",
      "DatetimeIndex: 250 entries, 2019-10-18 to 2020-10-16\n",
      "Data columns (total 15 columns):\n",
      " #   Column                  Non-Null Count  Dtype         \n",
      "---  ------                  --------------  -----         \n",
      " 0   Symbol                  250 non-null    object        \n",
      " 1   Series                  250 non-null    object        \n",
      " 2   Date                    250 non-null    datetime64[ns]\n",
      " 3   Prev Close              250 non-null    float64       \n",
      " 4   Open Price              250 non-null    float64       \n",
      " 5   High Price              250 non-null    float64       \n",
      " 6   Low Price               250 non-null    float64       \n",
      " 7   Last Price              250 non-null    float64       \n",
      " 8   Close Price             250 non-null    float64       \n",
      " 9   Average Price           250 non-null    float64       \n",
      " 10  Total Traded Quantity   250 non-null    int64         \n",
      " 11  Turnover                250 non-null    float64       \n",
      " 12  No. of Trades           250 non-null    int64         \n",
      " 13  Deliverable Qty         250 non-null    int64         \n",
      " 14  % Dly Qt to Traded Qty  250 non-null    float64       \n",
      "dtypes: datetime64[ns](1), float64(9), int64(3), object(2)\n",
      "memory usage: 31.2+ KB\n"
     ]
    }
   ],
   "source": [
    "df.info()"
   ]
  },
  {
   "cell_type": "code",
   "execution_count": 16,
   "metadata": {},
   "outputs": [
    {
     "data": {
      "text/html": [
       "<div>\n",
       "<style scoped>\n",
       "    .dataframe tbody tr th:only-of-type {\n",
       "        vertical-align: middle;\n",
       "    }\n",
       "\n",
       "    .dataframe tbody tr th {\n",
       "        vertical-align: top;\n",
       "    }\n",
       "\n",
       "    .dataframe thead th {\n",
       "        text-align: right;\n",
       "    }\n",
       "</style>\n",
       "<table border=\"1\" class=\"dataframe\">\n",
       "  <thead>\n",
       "    <tr style=\"text-align: right;\">\n",
       "      <th></th>\n",
       "      <th>Symbol</th>\n",
       "      <th>Series</th>\n",
       "      <th>Date</th>\n",
       "      <th>Prev Close</th>\n",
       "      <th>Open Price</th>\n",
       "      <th>High Price</th>\n",
       "      <th>Low Price</th>\n",
       "      <th>Last Price</th>\n",
       "      <th>Close Price</th>\n",
       "      <th>Average Price</th>\n",
       "      <th>Total Traded Quantity</th>\n",
       "      <th>Turnover</th>\n",
       "      <th>No. of Trades</th>\n",
       "      <th>Deliverable Qty</th>\n",
       "      <th>% Dly Qt to Traded Qty</th>\n",
       "    </tr>\n",
       "    <tr>\n",
       "      <th>Date</th>\n",
       "      <th></th>\n",
       "      <th></th>\n",
       "      <th></th>\n",
       "      <th></th>\n",
       "      <th></th>\n",
       "      <th></th>\n",
       "      <th></th>\n",
       "      <th></th>\n",
       "      <th></th>\n",
       "      <th></th>\n",
       "      <th></th>\n",
       "      <th></th>\n",
       "      <th></th>\n",
       "      <th></th>\n",
       "      <th></th>\n",
       "    </tr>\n",
       "  </thead>\n",
       "  <tbody>\n",
       "    <tr>\n",
       "      <th>2019-10-18</th>\n",
       "      <td>AXISBANK</td>\n",
       "      <td>EQ</td>\n",
       "      <td>2019-10-18</td>\n",
       "      <td>710.30</td>\n",
       "      <td>709.85</td>\n",
       "      <td>715.7</td>\n",
       "      <td>705.25</td>\n",
       "      <td>710.35</td>\n",
       "      <td>709.55</td>\n",
       "      <td>710.02</td>\n",
       "      <td>9500635</td>\n",
       "      <td>6.745626e+09</td>\n",
       "      <td>104518</td>\n",
       "      <td>2654760</td>\n",
       "      <td>27.94</td>\n",
       "    </tr>\n",
       "    <tr>\n",
       "      <th>2019-10-22</th>\n",
       "      <td>AXISBANK</td>\n",
       "      <td>EQ</td>\n",
       "      <td>2019-10-22</td>\n",
       "      <td>709.55</td>\n",
       "      <td>712.40</td>\n",
       "      <td>723.0</td>\n",
       "      <td>703.30</td>\n",
       "      <td>713.25</td>\n",
       "      <td>712.75</td>\n",
       "      <td>715.70</td>\n",
       "      <td>9704016</td>\n",
       "      <td>6.945190e+09</td>\n",
       "      <td>173046</td>\n",
       "      <td>3447622</td>\n",
       "      <td>35.53</td>\n",
       "    </tr>\n",
       "  </tbody>\n",
       "</table>\n",
       "</div>"
      ],
      "text/plain": [
       "              Symbol Series       Date  Prev Close  Open Price  High Price  \\\n",
       "Date                                                                         \n",
       "2019-10-18  AXISBANK     EQ 2019-10-18      710.30      709.85       715.7   \n",
       "2019-10-22  AXISBANK     EQ 2019-10-22      709.55      712.40       723.0   \n",
       "\n",
       "            Low Price  Last Price  Close Price  Average Price  \\\n",
       "Date                                                            \n",
       "2019-10-18     705.25      710.35       709.55         710.02   \n",
       "2019-10-22     703.30      713.25       712.75         715.70   \n",
       "\n",
       "            Total Traded Quantity      Turnover  No. of Trades  \\\n",
       "Date                                                             \n",
       "2019-10-18                9500635  6.745626e+09         104518   \n",
       "2019-10-22                9704016  6.945190e+09         173046   \n",
       "\n",
       "            Deliverable Qty  % Dly Qt to Traded Qty  \n",
       "Date                                                 \n",
       "2019-10-18          2654760                   27.94  \n",
       "2019-10-22          3447622                   35.53  "
      ]
     },
     "execution_count": 16,
     "metadata": {},
     "output_type": "execute_result"
    }
   ],
   "source": [
    "df.head(2)"
   ]
  },
  {
   "cell_type": "code",
   "execution_count": 17,
   "metadata": {},
   "outputs": [],
   "source": [
    "data = df.sort_index(ascending=True,axis=0)"
   ]
  },
  {
   "cell_type": "code",
   "execution_count": 18,
   "metadata": {},
   "outputs": [
    {
     "data": {
      "text/html": [
       "<div>\n",
       "<style scoped>\n",
       "    .dataframe tbody tr th:only-of-type {\n",
       "        vertical-align: middle;\n",
       "    }\n",
       "\n",
       "    .dataframe tbody tr th {\n",
       "        vertical-align: top;\n",
       "    }\n",
       "\n",
       "    .dataframe thead th {\n",
       "        text-align: right;\n",
       "    }\n",
       "</style>\n",
       "<table border=\"1\" class=\"dataframe\">\n",
       "  <thead>\n",
       "    <tr style=\"text-align: right;\">\n",
       "      <th></th>\n",
       "      <th>Symbol</th>\n",
       "      <th>Series</th>\n",
       "      <th>Date</th>\n",
       "      <th>Prev Close</th>\n",
       "      <th>Open Price</th>\n",
       "      <th>High Price</th>\n",
       "      <th>Low Price</th>\n",
       "      <th>Last Price</th>\n",
       "      <th>Close Price</th>\n",
       "      <th>Average Price</th>\n",
       "      <th>Total Traded Quantity</th>\n",
       "      <th>Turnover</th>\n",
       "      <th>No. of Trades</th>\n",
       "      <th>Deliverable Qty</th>\n",
       "      <th>% Dly Qt to Traded Qty</th>\n",
       "    </tr>\n",
       "    <tr>\n",
       "      <th>Date</th>\n",
       "      <th></th>\n",
       "      <th></th>\n",
       "      <th></th>\n",
       "      <th></th>\n",
       "      <th></th>\n",
       "      <th></th>\n",
       "      <th></th>\n",
       "      <th></th>\n",
       "      <th></th>\n",
       "      <th></th>\n",
       "      <th></th>\n",
       "      <th></th>\n",
       "      <th></th>\n",
       "      <th></th>\n",
       "      <th></th>\n",
       "    </tr>\n",
       "  </thead>\n",
       "  <tbody>\n",
       "    <tr>\n",
       "      <th>2019-10-18</th>\n",
       "      <td>AXISBANK</td>\n",
       "      <td>EQ</td>\n",
       "      <td>2019-10-18</td>\n",
       "      <td>710.30</td>\n",
       "      <td>709.85</td>\n",
       "      <td>715.7</td>\n",
       "      <td>705.25</td>\n",
       "      <td>710.35</td>\n",
       "      <td>709.55</td>\n",
       "      <td>710.02</td>\n",
       "      <td>9500635</td>\n",
       "      <td>6.745626e+09</td>\n",
       "      <td>104518</td>\n",
       "      <td>2654760</td>\n",
       "      <td>27.94</td>\n",
       "    </tr>\n",
       "    <tr>\n",
       "      <th>2019-10-22</th>\n",
       "      <td>AXISBANK</td>\n",
       "      <td>EQ</td>\n",
       "      <td>2019-10-22</td>\n",
       "      <td>709.55</td>\n",
       "      <td>712.40</td>\n",
       "      <td>723.0</td>\n",
       "      <td>703.30</td>\n",
       "      <td>713.25</td>\n",
       "      <td>712.75</td>\n",
       "      <td>715.70</td>\n",
       "      <td>9704016</td>\n",
       "      <td>6.945190e+09</td>\n",
       "      <td>173046</td>\n",
       "      <td>3447622</td>\n",
       "      <td>35.53</td>\n",
       "    </tr>\n",
       "  </tbody>\n",
       "</table>\n",
       "</div>"
      ],
      "text/plain": [
       "              Symbol Series       Date  Prev Close  Open Price  High Price  \\\n",
       "Date                                                                         \n",
       "2019-10-18  AXISBANK     EQ 2019-10-18      710.30      709.85       715.7   \n",
       "2019-10-22  AXISBANK     EQ 2019-10-22      709.55      712.40       723.0   \n",
       "\n",
       "            Low Price  Last Price  Close Price  Average Price  \\\n",
       "Date                                                            \n",
       "2019-10-18     705.25      710.35       709.55         710.02   \n",
       "2019-10-22     703.30      713.25       712.75         715.70   \n",
       "\n",
       "            Total Traded Quantity      Turnover  No. of Trades  \\\n",
       "Date                                                             \n",
       "2019-10-18                9500635  6.745626e+09         104518   \n",
       "2019-10-22                9704016  6.945190e+09         173046   \n",
       "\n",
       "            Deliverable Qty  % Dly Qt to Traded Qty  \n",
       "Date                                                 \n",
       "2019-10-18          2654760                   27.94  \n",
       "2019-10-22          3447622                   35.53  "
      ]
     },
     "execution_count": 18,
     "metadata": {},
     "output_type": "execute_result"
    }
   ],
   "source": [
    "data.head(2)"
   ]
  },
  {
   "cell_type": "markdown",
   "metadata": {},
   "source": [
    "## Lets us try Auto_Arima to predict the future values."
   ]
  },
  {
   "cell_type": "code",
   "execution_count": 19,
   "metadata": {},
   "outputs": [],
   "source": [
    "from pmdarima import auto_arima"
   ]
  },
  {
   "cell_type": "code",
   "execution_count": 20,
   "metadata": {},
   "outputs": [
    {
     "data": {
      "text/plain": [
       "(250, 15)"
      ]
     },
     "execution_count": 20,
     "metadata": {},
     "output_type": "execute_result"
    }
   ],
   "source": [
    "data.shape"
   ]
  },
  {
   "cell_type": "code",
   "execution_count": 21,
   "metadata": {},
   "outputs": [],
   "source": [
    "train = data[:200]\n",
    "test  = data[200:]"
   ]
  },
  {
   "cell_type": "code",
   "execution_count": 22,
   "metadata": {},
   "outputs": [],
   "source": [
    "training = train['Close Price']\n",
    "testing  = test['Close Price']"
   ]
  },
  {
   "cell_type": "code",
   "execution_count": 23,
   "metadata": {},
   "outputs": [
    {
     "data": {
      "text/plain": [
       "Date\n",
       "2019-10-18    709.55\n",
       "2019-10-22    712.75\n",
       "2019-10-23    714.85\n",
       "2019-10-24    707.70\n",
       "2019-10-25    708.60\n",
       "Name: Close Price, dtype: float64"
      ]
     },
     "execution_count": 23,
     "metadata": {},
     "output_type": "execute_result"
    }
   ],
   "source": [
    "training.head()"
   ]
  },
  {
   "cell_type": "code",
   "execution_count": 24,
   "metadata": {},
   "outputs": [
    {
     "name": "stdout",
     "output_type": "stream",
     "text": [
      "Performing stepwise search to minimize aic\n",
      " ARIMA(1,1,1)(0,1,1)[12]             : AIC=inf, Time=2.01 sec\n",
      " ARIMA(0,1,0)(0,1,0)[12]             : AIC=1757.306, Time=0.03 sec\n",
      " ARIMA(1,1,0)(1,1,0)[12]             : AIC=1733.560, Time=0.36 sec\n",
      " ARIMA(0,1,1)(0,1,1)[12]             : AIC=inf, Time=1.32 sec\n",
      " ARIMA(1,1,0)(0,1,0)[12]             : AIC=1758.825, Time=0.11 sec\n",
      " ARIMA(1,1,0)(2,1,0)[12]             : AIC=1696.779, Time=0.90 sec\n",
      " ARIMA(1,1,0)(2,1,1)[12]             : AIC=inf, Time=3.06 sec\n",
      " ARIMA(1,1,0)(1,1,1)[12]             : AIC=inf, Time=1.82 sec\n",
      " ARIMA(0,1,0)(2,1,0)[12]             : AIC=1694.784, Time=0.71 sec\n",
      " ARIMA(0,1,0)(1,1,0)[12]             : AIC=1731.563, Time=0.23 sec\n",
      " ARIMA(0,1,0)(2,1,1)[12]             : AIC=inf, Time=4.71 sec\n",
      " ARIMA(0,1,0)(1,1,1)[12]             : AIC=inf, Time=1.26 sec\n",
      " ARIMA(0,1,1)(2,1,0)[12]             : AIC=1696.779, Time=1.11 sec\n",
      " ARIMA(1,1,1)(2,1,0)[12]             : AIC=1697.767, Time=2.28 sec\n",
      " ARIMA(0,1,0)(2,1,0)[12] intercept   : AIC=1696.782, Time=2.62 sec\n",
      "\n",
      "Best model:  ARIMA(0,1,0)(2,1,0)[12]          \n",
      "Total fit time: 22.528 seconds\n"
     ]
    }
   ],
   "source": [
    "model = auto_arima(training,start_p=1,start_q=1,max_p=3,max_q=3,m=12,start_P=0,seasonal=True,d=1,D=1,trace=True,\n",
    "                   error_action='ignore',suppress_warnings=True)"
   ]
  },
  {
   "cell_type": "code",
   "execution_count": 25,
   "metadata": {},
   "outputs": [],
   "source": [
    "forecast = model.predict(n_periods=50)\n",
    "forecast = pd.DataFrame(forecast,index=test.index,columns=['Predictions'])"
   ]
  },
  {
   "cell_type": "code",
   "execution_count": 26,
   "metadata": {},
   "outputs": [
    {
     "data": {
      "text/plain": [
       "[<matplotlib.lines.Line2D at 0x13ee8db58b0>]"
      ]
     },
     "execution_count": 26,
     "metadata": {},
     "output_type": "execute_result"
    },
    {
     "data": {
      "image/png": "[encoded data removed]",
      "text/plain": [
       "<Figure size 1440x720 with 1 Axes>"
      ]
     },
     "metadata": {
      "needs_background": "light"
     },
     "output_type": "display_data"
    }
   ],
   "source": [
    "plt.plot(train['Close Price'])\n",
    "plt.plot(test['Close Price'])\n",
    "plt.plot(forecast['Predictions'])"
   ]
  },
  {
   "cell_type": "markdown",
   "metadata": {},
   "source": [
    "## Lets try Prophet from fbprophet"
   ]
  },
  {
   "cell_type": "code",
   "execution_count": 27,
   "metadata": {},
   "outputs": [],
   "source": [
    "from fbprophet import Prophet"
   ]
  },
  {
   "cell_type": "code",
   "execution_count": 28,
   "metadata": {},
   "outputs": [],
   "source": [
    "new_data1 = pd.DataFrame(index=range(0,len(df)),columns=['Date', 'Close'])\n"
   ]
  },
  {
   "cell_type": "code",
   "execution_count": 29,
   "metadata": {},
   "outputs": [],
   "source": [
    "for i in range(0,len(data)):\n",
    "    new_data1['Date'][i] = data['Date'][i]\n",
    "    new_data1['Close'][i] = data['Close Price'][i]"
   ]
  },
  {
   "cell_type": "code",
   "execution_count": 30,
   "metadata": {},
   "outputs": [
    {
     "data": {
      "text/plain": [
       "dtype('O')"
      ]
     },
     "execution_count": 30,
     "metadata": {},
     "output_type": "execute_result"
    }
   ],
   "source": [
    "new_data1['Date'].dtype"
   ]
  },
  {
   "cell_type": "code",
   "execution_count": 31,
   "metadata": {},
   "outputs": [],
   "source": [
    "new_data1['Date'] = pd.to_datetime(new_data1.Date)"
   ]
  },
  {
   "cell_type": "code",
   "execution_count": 32,
   "metadata": {},
   "outputs": [
    {
     "data": {
      "text/plain": [
       "dtype('<M8[ns]')"
      ]
     },
     "execution_count": 32,
     "metadata": {},
     "output_type": "execute_result"
    }
   ],
   "source": [
    "new_data1['Date'].dtype"
   ]
  },
  {
   "cell_type": "code",
   "execution_count": 33,
   "metadata": {},
   "outputs": [
    {
     "data": {
      "text/html": [
       "<div>\n",
       "<style scoped>\n",
       "    .dataframe tbody tr th:only-of-type {\n",
       "        vertical-align: middle;\n",
       "    }\n",
       "\n",
       "    .dataframe tbody tr th {\n",
       "        vertical-align: top;\n",
       "    }\n",
       "\n",
       "    .dataframe thead th {\n",
       "        text-align: right;\n",
       "    }\n",
       "</style>\n",
       "<table border=\"1\" class=\"dataframe\">\n",
       "  <thead>\n",
       "    <tr style=\"text-align: right;\">\n",
       "      <th></th>\n",
       "      <th>Date</th>\n",
       "      <th>Close</th>\n",
       "    </tr>\n",
       "  </thead>\n",
       "  <tbody>\n",
       "    <tr>\n",
       "      <th>0</th>\n",
       "      <td>2019-10-18</td>\n",
       "      <td>709.55</td>\n",
       "    </tr>\n",
       "    <tr>\n",
       "      <th>1</th>\n",
       "      <td>2019-10-22</td>\n",
       "      <td>712.75</td>\n",
       "    </tr>\n",
       "  </tbody>\n",
       "</table>\n",
       "</div>"
      ],
      "text/plain": [
       "        Date   Close\n",
       "0 2019-10-18  709.55\n",
       "1 2019-10-22  712.75"
      ]
     },
     "execution_count": 33,
     "metadata": {},
     "output_type": "execute_result"
    }
   ],
   "source": [
    "new_data1.head(2)"
   ]
  },
  {
   "cell_type": "code",
   "execution_count": 34,
   "metadata": {},
   "outputs": [],
   "source": [
    "new_data1.index = new_data1['Date']"
   ]
  },
  {
   "cell_type": "code",
   "execution_count": 35,
   "metadata": {},
   "outputs": [
    {
     "data": {
      "text/html": [
       "<div>\n",
       "<style scoped>\n",
       "    .dataframe tbody tr th:only-of-type {\n",
       "        vertical-align: middle;\n",
       "    }\n",
       "\n",
       "    .dataframe tbody tr th {\n",
       "        vertical-align: top;\n",
       "    }\n",
       "\n",
       "    .dataframe thead th {\n",
       "        text-align: right;\n",
       "    }\n",
       "</style>\n",
       "<table border=\"1\" class=\"dataframe\">\n",
       "  <thead>\n",
       "    <tr style=\"text-align: right;\">\n",
       "      <th></th>\n",
       "      <th>Date</th>\n",
       "      <th>Close</th>\n",
       "    </tr>\n",
       "    <tr>\n",
       "      <th>Date</th>\n",
       "      <th></th>\n",
       "      <th></th>\n",
       "    </tr>\n",
       "  </thead>\n",
       "  <tbody>\n",
       "    <tr>\n",
       "      <th>2019-10-18</th>\n",
       "      <td>2019-10-18</td>\n",
       "      <td>709.55</td>\n",
       "    </tr>\n",
       "    <tr>\n",
       "      <th>2019-10-22</th>\n",
       "      <td>2019-10-22</td>\n",
       "      <td>712.75</td>\n",
       "    </tr>\n",
       "  </tbody>\n",
       "</table>\n",
       "</div>"
      ],
      "text/plain": [
       "                 Date   Close\n",
       "Date                         \n",
       "2019-10-18 2019-10-18  709.55\n",
       "2019-10-22 2019-10-22  712.75"
      ]
     },
     "execution_count": 35,
     "metadata": {},
     "output_type": "execute_result"
    }
   ],
   "source": [
    "new_data1.head(2)"
   ]
  },
  {
   "cell_type": "code",
   "execution_count": 36,
   "metadata": {},
   "outputs": [],
   "source": [
    "new_data1.rename(columns={'Close': 'y', 'Date': 'ds'}, inplace=True)"
   ]
  },
  {
   "cell_type": "code",
   "execution_count": 37,
   "metadata": {},
   "outputs": [
    {
     "data": {
      "text/html": [
       "<div>\n",
       "<style scoped>\n",
       "    .dataframe tbody tr th:only-of-type {\n",
       "        vertical-align: middle;\n",
       "    }\n",
       "\n",
       "    .dataframe tbody tr th {\n",
       "        vertical-align: top;\n",
       "    }\n",
       "\n",
       "    .dataframe thead th {\n",
       "        text-align: right;\n",
       "    }\n",
       "</style>\n",
       "<table border=\"1\" class=\"dataframe\">\n",
       "  <thead>\n",
       "    <tr style=\"text-align: right;\">\n",
       "      <th></th>\n",
       "      <th>ds</th>\n",
       "      <th>y</th>\n",
       "    </tr>\n",
       "    <tr>\n",
       "      <th>Date</th>\n",
       "      <th></th>\n",
       "      <th></th>\n",
       "    </tr>\n",
       "  </thead>\n",
       "  <tbody>\n",
       "    <tr>\n",
       "      <th>2019-10-18</th>\n",
       "      <td>2019-10-18</td>\n",
       "      <td>709.55</td>\n",
       "    </tr>\n",
       "    <tr>\n",
       "      <th>2019-10-22</th>\n",
       "      <td>2019-10-22</td>\n",
       "      <td>712.75</td>\n",
       "    </tr>\n",
       "  </tbody>\n",
       "</table>\n",
       "</div>"
      ],
      "text/plain": [
       "                   ds       y\n",
       "Date                         \n",
       "2019-10-18 2019-10-18  709.55\n",
       "2019-10-22 2019-10-22  712.75"
      ]
     },
     "execution_count": 37,
     "metadata": {},
     "output_type": "execute_result"
    }
   ],
   "source": [
    "new_data1.head(2)"
   ]
  },
  {
   "cell_type": "code",
   "execution_count": 38,
   "metadata": {},
   "outputs": [],
   "source": [
    "train1 = new_data1[:200]\n",
    "test1 = new_data1[200:]"
   ]
  },
  {
   "cell_type": "code",
   "execution_count": 39,
   "metadata": {},
   "outputs": [
    {
     "name": "stderr",
     "output_type": "stream",
     "text": [
      "INFO:fbprophet:Disabling yearly seasonality. Run prophet with yearly_seasonality=True to override this.\n",
      "INFO:fbprophet:Disabling daily seasonality. Run prophet with daily_seasonality=True to override this.\n"
     ]
    },
    {
     "data": {
      "text/plain": [
       "<fbprophet.forecaster.Prophet at 0x13ed75c59a0>"
      ]
     },
     "execution_count": 39,
     "metadata": {},
     "output_type": "execute_result"
    }
   ],
   "source": [
    "model1 = Prophet()\n",
    "model1.fit(train1)"
   ]
  },
  {
   "cell_type": "code",
   "execution_count": 40,
   "metadata": {},
   "outputs": [],
   "source": [
    "close_prices1 = model1.make_future_dataframe(periods=len(test1))"
   ]
  },
  {
   "cell_type": "code",
   "execution_count": 41,
   "metadata": {},
   "outputs": [],
   "source": [
    "forecast1 = model1.predict(close_prices1)"
   ]
  },
  {
   "cell_type": "code",
   "execution_count": 42,
   "metadata": {},
   "outputs": [
    {
     "data": {
      "text/html": [
       "<div>\n",
       "<style scoped>\n",
       "    .dataframe tbody tr th:only-of-type {\n",
       "        vertical-align: middle;\n",
       "    }\n",
       "\n",
       "    .dataframe tbody tr th {\n",
       "        vertical-align: top;\n",
       "    }\n",
       "\n",
       "    .dataframe thead th {\n",
       "        text-align: right;\n",
       "    }\n",
       "</style>\n",
       "<table border=\"1\" class=\"dataframe\">\n",
       "  <thead>\n",
       "    <tr style=\"text-align: right;\">\n",
       "      <th></th>\n",
       "      <th>ds</th>\n",
       "      <th>trend</th>\n",
       "      <th>yhat_lower</th>\n",
       "      <th>yhat_upper</th>\n",
       "      <th>trend_lower</th>\n",
       "      <th>trend_upper</th>\n",
       "      <th>additive_terms</th>\n",
       "      <th>additive_terms_lower</th>\n",
       "      <th>additive_terms_upper</th>\n",
       "      <th>weekly</th>\n",
       "      <th>weekly_lower</th>\n",
       "      <th>weekly_upper</th>\n",
       "      <th>multiplicative_terms</th>\n",
       "      <th>multiplicative_terms_lower</th>\n",
       "      <th>multiplicative_terms_upper</th>\n",
       "      <th>yhat</th>\n",
       "    </tr>\n",
       "  </thead>\n",
       "  <tbody>\n",
       "    <tr>\n",
       "      <th>0</th>\n",
       "      <td>2019-10-18</td>\n",
       "      <td>727.061070</td>\n",
       "      <td>674.153528</td>\n",
       "      <td>787.018597</td>\n",
       "      <td>727.061070</td>\n",
       "      <td>727.061070</td>\n",
       "      <td>4.458799</td>\n",
       "      <td>4.458799</td>\n",
       "      <td>4.458799</td>\n",
       "      <td>4.458799</td>\n",
       "      <td>4.458799</td>\n",
       "      <td>4.458799</td>\n",
       "      <td>0.0</td>\n",
       "      <td>0.0</td>\n",
       "      <td>0.0</td>\n",
       "      <td>731.519869</td>\n",
       "    </tr>\n",
       "    <tr>\n",
       "      <th>1</th>\n",
       "      <td>2019-10-22</td>\n",
       "      <td>727.374445</td>\n",
       "      <td>678.850975</td>\n",
       "      <td>783.630308</td>\n",
       "      <td>727.374445</td>\n",
       "      <td>727.374445</td>\n",
       "      <td>4.492185</td>\n",
       "      <td>4.492185</td>\n",
       "      <td>4.492185</td>\n",
       "      <td>4.492185</td>\n",
       "      <td>4.492185</td>\n",
       "      <td>4.492185</td>\n",
       "      <td>0.0</td>\n",
       "      <td>0.0</td>\n",
       "      <td>0.0</td>\n",
       "      <td>731.866630</td>\n",
       "    </tr>\n",
       "    <tr>\n",
       "      <th>2</th>\n",
       "      <td>2019-10-23</td>\n",
       "      <td>727.452789</td>\n",
       "      <td>682.237598</td>\n",
       "      <td>793.048340</td>\n",
       "      <td>727.452789</td>\n",
       "      <td>727.452789</td>\n",
       "      <td>10.455151</td>\n",
       "      <td>10.455151</td>\n",
       "      <td>10.455151</td>\n",
       "      <td>10.455151</td>\n",
       "      <td>10.455151</td>\n",
       "      <td>10.455151</td>\n",
       "      <td>0.0</td>\n",
       "      <td>0.0</td>\n",
       "      <td>0.0</td>\n",
       "      <td>737.907941</td>\n",
       "    </tr>\n",
       "  </tbody>\n",
       "</table>\n",
       "</div>"
      ],
      "text/plain": [
       "          ds       trend  yhat_lower  yhat_upper  trend_lower  trend_upper  \\\n",
       "0 2019-10-18  727.061070  674.153528  787.018597   727.061070   727.061070   \n",
       "1 2019-10-22  727.374445  678.850975  783.630308   727.374445   727.374445   \n",
       "2 2019-10-23  727.452789  682.237598  793.048340   727.452789   727.452789   \n",
       "\n",
       "   additive_terms  additive_terms_lower  additive_terms_upper     weekly  \\\n",
       "0        4.458799              4.458799              4.458799   4.458799   \n",
       "1        4.492185              4.492185              4.492185   4.492185   \n",
       "2       10.455151             10.455151             10.455151  10.455151   \n",
       "\n",
       "   weekly_lower  weekly_upper  multiplicative_terms  \\\n",
       "0      4.458799      4.458799                   0.0   \n",
       "1      4.492185      4.492185                   0.0   \n",
       "2     10.455151     10.455151                   0.0   \n",
       "\n",
       "   multiplicative_terms_lower  multiplicative_terms_upper        yhat  \n",
       "0                         0.0                         0.0  731.519869  \n",
       "1                         0.0                         0.0  731.866630  \n",
       "2                         0.0                         0.0  737.907941  "
      ]
     },
     "execution_count": 42,
     "metadata": {},
     "output_type": "execute_result"
    }
   ],
   "source": [
    "forecast1.head(3)"
   ]
  },
  {
   "cell_type": "code",
   "execution_count": 43,
   "metadata": {},
   "outputs": [
    {
     "data": {
      "text/html": [
       "<div>\n",
       "<style scoped>\n",
       "    .dataframe tbody tr th:only-of-type {\n",
       "        vertical-align: middle;\n",
       "    }\n",
       "\n",
       "    .dataframe tbody tr th {\n",
       "        vertical-align: top;\n",
       "    }\n",
       "\n",
       "    .dataframe thead th {\n",
       "        text-align: right;\n",
       "    }\n",
       "</style>\n",
       "<table border=\"1\" class=\"dataframe\">\n",
       "  <thead>\n",
       "    <tr style=\"text-align: right;\">\n",
       "      <th></th>\n",
       "      <th>ds</th>\n",
       "      <th>trend</th>\n",
       "      <th>yhat_lower</th>\n",
       "      <th>yhat_upper</th>\n",
       "      <th>trend_lower</th>\n",
       "      <th>trend_upper</th>\n",
       "      <th>additive_terms</th>\n",
       "      <th>additive_terms_lower</th>\n",
       "      <th>additive_terms_upper</th>\n",
       "      <th>weekly</th>\n",
       "      <th>weekly_lower</th>\n",
       "      <th>weekly_upper</th>\n",
       "      <th>multiplicative_terms</th>\n",
       "      <th>multiplicative_terms_lower</th>\n",
       "      <th>multiplicative_terms_upper</th>\n",
       "      <th>yhat</th>\n",
       "    </tr>\n",
       "  </thead>\n",
       "  <tbody>\n",
       "    <tr>\n",
       "      <th>0</th>\n",
       "      <td>2019-10-18</td>\n",
       "      <td>727.061070</td>\n",
       "      <td>674.153528</td>\n",
       "      <td>787.018597</td>\n",
       "      <td>727.061070</td>\n",
       "      <td>727.061070</td>\n",
       "      <td>4.458799</td>\n",
       "      <td>4.458799</td>\n",
       "      <td>4.458799</td>\n",
       "      <td>4.458799</td>\n",
       "      <td>4.458799</td>\n",
       "      <td>4.458799</td>\n",
       "      <td>0.0</td>\n",
       "      <td>0.0</td>\n",
       "      <td>0.0</td>\n",
       "      <td>731.519869</td>\n",
       "    </tr>\n",
       "    <tr>\n",
       "      <th>1</th>\n",
       "      <td>2019-10-22</td>\n",
       "      <td>727.374445</td>\n",
       "      <td>678.850975</td>\n",
       "      <td>783.630308</td>\n",
       "      <td>727.374445</td>\n",
       "      <td>727.374445</td>\n",
       "      <td>4.492185</td>\n",
       "      <td>4.492185</td>\n",
       "      <td>4.492185</td>\n",
       "      <td>4.492185</td>\n",
       "      <td>4.492185</td>\n",
       "      <td>4.492185</td>\n",
       "      <td>0.0</td>\n",
       "      <td>0.0</td>\n",
       "      <td>0.0</td>\n",
       "      <td>731.866630</td>\n",
       "    </tr>\n",
       "    <tr>\n",
       "      <th>2</th>\n",
       "      <td>2019-10-23</td>\n",
       "      <td>727.452789</td>\n",
       "      <td>682.237598</td>\n",
       "      <td>793.048340</td>\n",
       "      <td>727.452789</td>\n",
       "      <td>727.452789</td>\n",
       "      <td>10.455151</td>\n",
       "      <td>10.455151</td>\n",
       "      <td>10.455151</td>\n",
       "      <td>10.455151</td>\n",
       "      <td>10.455151</td>\n",
       "      <td>10.455151</td>\n",
       "      <td>0.0</td>\n",
       "      <td>0.0</td>\n",
       "      <td>0.0</td>\n",
       "      <td>737.907941</td>\n",
       "    </tr>\n",
       "    <tr>\n",
       "      <th>3</th>\n",
       "      <td>2019-10-24</td>\n",
       "      <td>727.531133</td>\n",
       "      <td>683.269496</td>\n",
       "      <td>788.721381</td>\n",
       "      <td>727.531133</td>\n",
       "      <td>727.531133</td>\n",
       "      <td>10.514638</td>\n",
       "      <td>10.514638</td>\n",
       "      <td>10.514638</td>\n",
       "      <td>10.514638</td>\n",
       "      <td>10.514638</td>\n",
       "      <td>10.514638</td>\n",
       "      <td>0.0</td>\n",
       "      <td>0.0</td>\n",
       "      <td>0.0</td>\n",
       "      <td>738.045771</td>\n",
       "    </tr>\n",
       "    <tr>\n",
       "      <th>4</th>\n",
       "      <td>2019-10-25</td>\n",
       "      <td>727.609477</td>\n",
       "      <td>682.154553</td>\n",
       "      <td>785.410394</td>\n",
       "      <td>727.609477</td>\n",
       "      <td>727.609477</td>\n",
       "      <td>4.458799</td>\n",
       "      <td>4.458799</td>\n",
       "      <td>4.458799</td>\n",
       "      <td>4.458799</td>\n",
       "      <td>4.458799</td>\n",
       "      <td>4.458799</td>\n",
       "      <td>0.0</td>\n",
       "      <td>0.0</td>\n",
       "      <td>0.0</td>\n",
       "      <td>732.068276</td>\n",
       "    </tr>\n",
       "    <tr>\n",
       "      <th>...</th>\n",
       "      <td>...</td>\n",
       "      <td>...</td>\n",
       "      <td>...</td>\n",
       "      <td>...</td>\n",
       "      <td>...</td>\n",
       "      <td>...</td>\n",
       "      <td>...</td>\n",
       "      <td>...</td>\n",
       "      <td>...</td>\n",
       "      <td>...</td>\n",
       "      <td>...</td>\n",
       "      <td>...</td>\n",
       "      <td>...</td>\n",
       "      <td>...</td>\n",
       "      <td>...</td>\n",
       "      <td>...</td>\n",
       "    </tr>\n",
       "    <tr>\n",
       "      <th>245</th>\n",
       "      <td>2020-09-21</td>\n",
       "      <td>446.797497</td>\n",
       "      <td>385.477582</td>\n",
       "      <td>523.057266</td>\n",
       "      <td>406.279228</td>\n",
       "      <td>484.236594</td>\n",
       "      <td>8.235921</td>\n",
       "      <td>8.235921</td>\n",
       "      <td>8.235921</td>\n",
       "      <td>8.235921</td>\n",
       "      <td>8.235921</td>\n",
       "      <td>8.235921</td>\n",
       "      <td>0.0</td>\n",
       "      <td>0.0</td>\n",
       "      <td>0.0</td>\n",
       "      <td>455.033419</td>\n",
       "    </tr>\n",
       "    <tr>\n",
       "      <th>246</th>\n",
       "      <td>2020-09-22</td>\n",
       "      <td>447.231346</td>\n",
       "      <td>380.216344</td>\n",
       "      <td>521.855969</td>\n",
       "      <td>405.341091</td>\n",
       "      <td>486.260455</td>\n",
       "      <td>4.492185</td>\n",
       "      <td>4.492185</td>\n",
       "      <td>4.492185</td>\n",
       "      <td>4.492185</td>\n",
       "      <td>4.492185</td>\n",
       "      <td>4.492185</td>\n",
       "      <td>0.0</td>\n",
       "      <td>0.0</td>\n",
       "      <td>0.0</td>\n",
       "      <td>451.723530</td>\n",
       "    </tr>\n",
       "    <tr>\n",
       "      <th>247</th>\n",
       "      <td>2020-09-23</td>\n",
       "      <td>447.665194</td>\n",
       "      <td>386.373914</td>\n",
       "      <td>528.836480</td>\n",
       "      <td>404.085035</td>\n",
       "      <td>488.040444</td>\n",
       "      <td>10.455151</td>\n",
       "      <td>10.455151</td>\n",
       "      <td>10.455151</td>\n",
       "      <td>10.455151</td>\n",
       "      <td>10.455151</td>\n",
       "      <td>10.455151</td>\n",
       "      <td>0.0</td>\n",
       "      <td>0.0</td>\n",
       "      <td>0.0</td>\n",
       "      <td>458.120345</td>\n",
       "    </tr>\n",
       "    <tr>\n",
       "      <th>248</th>\n",
       "      <td>2020-09-24</td>\n",
       "      <td>448.099042</td>\n",
       "      <td>391.360944</td>\n",
       "      <td>530.068455</td>\n",
       "      <td>402.606006</td>\n",
       "      <td>489.837980</td>\n",
       "      <td>10.514638</td>\n",
       "      <td>10.514638</td>\n",
       "      <td>10.514638</td>\n",
       "      <td>10.514638</td>\n",
       "      <td>10.514638</td>\n",
       "      <td>10.514638</td>\n",
       "      <td>0.0</td>\n",
       "      <td>0.0</td>\n",
       "      <td>0.0</td>\n",
       "      <td>458.613681</td>\n",
       "    </tr>\n",
       "    <tr>\n",
       "      <th>249</th>\n",
       "      <td>2020-09-25</td>\n",
       "      <td>448.532891</td>\n",
       "      <td>380.811328</td>\n",
       "      <td>524.987852</td>\n",
       "      <td>402.135423</td>\n",
       "      <td>491.794203</td>\n",
       "      <td>4.458799</td>\n",
       "      <td>4.458799</td>\n",
       "      <td>4.458799</td>\n",
       "      <td>4.458799</td>\n",
       "      <td>4.458799</td>\n",
       "      <td>4.458799</td>\n",
       "      <td>0.0</td>\n",
       "      <td>0.0</td>\n",
       "      <td>0.0</td>\n",
       "      <td>452.991690</td>\n",
       "    </tr>\n",
       "  </tbody>\n",
       "</table>\n",
       "<p>250 rows × 16 columns</p>\n",
       "</div>"
      ],
      "text/plain": [
       "            ds       trend  yhat_lower  yhat_upper  trend_lower  trend_upper  \\\n",
       "0   2019-10-18  727.061070  674.153528  787.018597   727.061070   727.061070   \n",
       "1   2019-10-22  727.374445  678.850975  783.630308   727.374445   727.374445   \n",
       "2   2019-10-23  727.452789  682.237598  793.048340   727.452789   727.452789   \n",
       "3   2019-10-24  727.531133  683.269496  788.721381   727.531133   727.531133   \n",
       "4   2019-10-25  727.609477  682.154553  785.410394   727.609477   727.609477   \n",
       "..         ...         ...         ...         ...          ...          ...   \n",
       "245 2020-09-21  446.797497  385.477582  523.057266   406.279228   484.236594   \n",
       "246 2020-09-22  447.231346  380.216344  521.855969   405.341091   486.260455   \n",
       "247 2020-09-23  447.665194  386.373914  528.836480   404.085035   488.040444   \n",
       "248 2020-09-24  448.099042  391.360944  530.068455   402.606006   489.837980   \n",
       "249 2020-09-25  448.532891  380.811328  524.987852   402.135423   491.794203   \n",
       "\n",
       "     additive_terms  additive_terms_lower  additive_terms_upper     weekly  \\\n",
       "0          4.458799              4.458799              4.458799   4.458799   \n",
       "1          4.492185              4.492185              4.492185   4.492185   \n",
       "2         10.455151             10.455151             10.455151  10.455151   \n",
       "3         10.514638             10.514638             10.514638  10.514638   \n",
       "4          4.458799              4.458799              4.458799   4.458799   \n",
       "..              ...                   ...                   ...        ...   \n",
       "245        8.235921              8.235921              8.235921   8.235921   \n",
       "246        4.492185              4.492185              4.492185   4.492185   \n",
       "247       10.455151             10.455151             10.455151  10.455151   \n",
       "248       10.514638             10.514638             10.514638  10.514638   \n",
       "249        4.458799              4.458799              4.458799   4.458799   \n",
       "\n",
       "     weekly_lower  weekly_upper  multiplicative_terms  \\\n",
       "0        4.458799      4.458799                   0.0   \n",
       "1        4.492185      4.492185                   0.0   \n",
       "2       10.455151     10.455151                   0.0   \n",
       "3       10.514638     10.514638                   0.0   \n",
       "4        4.458799      4.458799                   0.0   \n",
       "..            ...           ...                   ...   \n",
       "245      8.235921      8.235921                   0.0   \n",
       "246      4.492185      4.492185                   0.0   \n",
       "247     10.455151     10.455151                   0.0   \n",
       "248     10.514638     10.514638                   0.0   \n",
       "249      4.458799      4.458799                   0.0   \n",
       "\n",
       "     multiplicative_terms_lower  multiplicative_terms_upper        yhat  \n",
       "0                           0.0                         0.0  731.519869  \n",
       "1                           0.0                         0.0  731.866630  \n",
       "2                           0.0                         0.0  737.907941  \n",
       "3                           0.0                         0.0  738.045771  \n",
       "4                           0.0                         0.0  732.068276  \n",
       "..                          ...                         ...         ...  \n",
       "245                         0.0                         0.0  455.033419  \n",
       "246                         0.0                         0.0  451.723530  \n",
       "247                         0.0                         0.0  458.120345  \n",
       "248                         0.0                         0.0  458.613681  \n",
       "249                         0.0                         0.0  452.991690  \n",
       "\n",
       "[250 rows x 16 columns]"
      ]
     },
     "execution_count": 43,
     "metadata": {},
     "output_type": "execute_result"
    }
   ],
   "source": [
    "forecast1"
   ]
  },
  {
   "cell_type": "code",
   "execution_count": 44,
   "metadata": {},
   "outputs": [],
   "source": [
    "forecast_test1 = forecast1['yhat'][200:]"
   ]
  },
  {
   "cell_type": "code",
   "execution_count": 45,
   "metadata": {},
   "outputs": [
    {
     "data": {
      "text/plain": [
       "50"
      ]
     },
     "execution_count": 45,
     "metadata": {},
     "output_type": "execute_result"
    }
   ],
   "source": [
    "forecast_test1.size"
   ]
  },
  {
   "cell_type": "code",
   "execution_count": 46,
   "metadata": {},
   "outputs": [],
   "source": [
    "from sklearn.metrics import mean_squared_error"
   ]
  },
  {
   "cell_type": "code",
   "execution_count": 47,
   "metadata": {},
   "outputs": [
    {
     "data": {
      "text/plain": [
       "200    431.733118\n",
       "201    408.791461\n",
       "Name: yhat, dtype: float64"
      ]
     },
     "execution_count": 47,
     "metadata": {},
     "output_type": "execute_result"
    }
   ],
   "source": [
    "forecast_test1.head(2)"
   ]
  },
  {
   "cell_type": "code",
   "execution_count": 48,
   "metadata": {},
   "outputs": [],
   "source": [
    "rms = np.sqrt(mean_squared_error(test1['y'],forecast_test1))"
   ]
  },
  {
   "cell_type": "code",
   "execution_count": 49,
   "metadata": {},
   "outputs": [
    {
     "data": {
      "text/plain": [
       "28.014590754085607"
      ]
     },
     "execution_count": 49,
     "metadata": {},
     "output_type": "execute_result"
    }
   ],
   "source": [
    "rms"
   ]
  },
  {
   "cell_type": "code",
   "execution_count": 50,
   "metadata": {},
   "outputs": [
    {
     "data": {
      "text/html": [
       "<div>\n",
       "<style scoped>\n",
       "    .dataframe tbody tr th:only-of-type {\n",
       "        vertical-align: middle;\n",
       "    }\n",
       "\n",
       "    .dataframe tbody tr th {\n",
       "        vertical-align: top;\n",
       "    }\n",
       "\n",
       "    .dataframe thead th {\n",
       "        text-align: right;\n",
       "    }\n",
       "</style>\n",
       "<table border=\"1\" class=\"dataframe\">\n",
       "  <thead>\n",
       "    <tr style=\"text-align: right;\">\n",
       "      <th></th>\n",
       "      <th>ds</th>\n",
       "      <th>y</th>\n",
       "    </tr>\n",
       "    <tr>\n",
       "      <th>Date</th>\n",
       "      <th></th>\n",
       "      <th></th>\n",
       "    </tr>\n",
       "  </thead>\n",
       "  <tbody>\n",
       "    <tr>\n",
       "      <th>2020-08-07</th>\n",
       "      <td>2020-08-07</td>\n",
       "      <td>433.3</td>\n",
       "    </tr>\n",
       "    <tr>\n",
       "      <th>2020-08-10</th>\n",
       "      <td>2020-08-10</td>\n",
       "      <td>431.1</td>\n",
       "    </tr>\n",
       "  </tbody>\n",
       "</table>\n",
       "</div>"
      ],
      "text/plain": [
       "                   ds      y\n",
       "Date                        \n",
       "2020-08-07 2020-08-07  433.3\n",
       "2020-08-10 2020-08-10  431.1"
      ]
     },
     "execution_count": 50,
     "metadata": {},
     "output_type": "execute_result"
    }
   ],
   "source": [
    "test1.head(2)"
   ]
  },
  {
   "cell_type": "code",
   "execution_count": 51,
   "metadata": {},
   "outputs": [
    {
     "name": "stderr",
     "output_type": "stream",
     "text": [
      "<ipython-input-51-d7db61f946e0>:1: SettingWithCopyWarning: \n",
      "A value is trying to be set on a copy of a slice from a DataFrame.\n",
      "Try using .loc[row_indexer,col_indexer] = value instead\n",
      "\n",
      "See the caveats in the documentation: https://pandas.pydata.org/pandas-docs/stable/user_guide/indexing.html#returning-a-view-versus-a-copy\n",
      "  test1['Prophet predictions'] = forecast_test1.values\n"
     ]
    },
    {
     "data": {
      "text/plain": [
       "(50, 3)"
      ]
     },
     "execution_count": 51,
     "metadata": {},
     "output_type": "execute_result"
    }
   ],
   "source": [
    "test1['Prophet predictions'] = forecast_test1.values\n",
    "test1.shape"
   ]
  },
  {
   "cell_type": "code",
   "execution_count": 52,
   "metadata": {},
   "outputs": [
    {
     "data": {
      "text/plain": [
       "[<matplotlib.lines.Line2D at 0x13eda58ffd0>]"
      ]
     },
     "execution_count": 52,
     "metadata": {},
     "output_type": "execute_result"
    },
    {
     "data": {
      "image/png": "[encoded data removed]",
      "text/plain": [
       "<Figure size 1440x720 with 1 Axes>"
      ]
     },
     "metadata": {
      "needs_background": "light"
     },
     "output_type": "display_data"
    }
   ],
   "source": [
    "#Plotting\n",
    "plt.plot(train1['y'])\n",
    "plt.plot(test1['y'])\n",
    "plt.plot(test1['Prophet predictions'])"
   ]
  },
  {
   "cell_type": "markdown",
   "metadata": {},
   "source": [
    "### Prophet generally does well but in this case it isn't"
   ]
  },
  {
   "cell_type": "markdown",
   "metadata": {},
   "source": [
    "## Now let us try LSTM model"
   ]
  },
  {
   "cell_type": "code",
   "execution_count": 53,
   "metadata": {},
   "outputs": [
    {
     "data": {
      "text/html": [
       "<div>\n",
       "<style scoped>\n",
       "    .dataframe tbody tr th:only-of-type {\n",
       "        vertical-align: middle;\n",
       "    }\n",
       "\n",
       "    .dataframe tbody tr th {\n",
       "        vertical-align: top;\n",
       "    }\n",
       "\n",
       "    .dataframe thead th {\n",
       "        text-align: right;\n",
       "    }\n",
       "</style>\n",
       "<table border=\"1\" class=\"dataframe\">\n",
       "  <thead>\n",
       "    <tr style=\"text-align: right;\">\n",
       "      <th></th>\n",
       "      <th>ds</th>\n",
       "      <th>y</th>\n",
       "    </tr>\n",
       "    <tr>\n",
       "      <th>Date</th>\n",
       "      <th></th>\n",
       "      <th></th>\n",
       "    </tr>\n",
       "  </thead>\n",
       "  <tbody>\n",
       "    <tr>\n",
       "      <th>2019-10-18</th>\n",
       "      <td>2019-10-18</td>\n",
       "      <td>709.55</td>\n",
       "    </tr>\n",
       "    <tr>\n",
       "      <th>2019-10-22</th>\n",
       "      <td>2019-10-22</td>\n",
       "      <td>712.75</td>\n",
       "    </tr>\n",
       "  </tbody>\n",
       "</table>\n",
       "</div>"
      ],
      "text/plain": [
       "                   ds       y\n",
       "Date                         \n",
       "2019-10-18 2019-10-18  709.55\n",
       "2019-10-22 2019-10-22  712.75"
      ]
     },
     "execution_count": 53,
     "metadata": {},
     "output_type": "execute_result"
    }
   ],
   "source": [
    "new_data1.head(2)"
   ]
  },
  {
   "cell_type": "code",
   "execution_count": 54,
   "metadata": {},
   "outputs": [
    {
     "data": {
      "text/html": [
       "<div>\n",
       "<style scoped>\n",
       "    .dataframe tbody tr th:only-of-type {\n",
       "        vertical-align: middle;\n",
       "    }\n",
       "\n",
       "    .dataframe tbody tr th {\n",
       "        vertical-align: top;\n",
       "    }\n",
       "\n",
       "    .dataframe thead th {\n",
       "        text-align: right;\n",
       "    }\n",
       "</style>\n",
       "<table border=\"1\" class=\"dataframe\">\n",
       "  <thead>\n",
       "    <tr style=\"text-align: right;\">\n",
       "      <th></th>\n",
       "      <th>Symbol</th>\n",
       "      <th>Series</th>\n",
       "      <th>Date</th>\n",
       "      <th>Prev Close</th>\n",
       "      <th>Open Price</th>\n",
       "      <th>High Price</th>\n",
       "      <th>Low Price</th>\n",
       "      <th>Last Price</th>\n",
       "      <th>Close Price</th>\n",
       "      <th>Average Price</th>\n",
       "      <th>Total Traded Quantity</th>\n",
       "      <th>Turnover</th>\n",
       "      <th>No. of Trades</th>\n",
       "      <th>Deliverable Qty</th>\n",
       "      <th>% Dly Qt to Traded Qty</th>\n",
       "    </tr>\n",
       "    <tr>\n",
       "      <th>Date</th>\n",
       "      <th></th>\n",
       "      <th></th>\n",
       "      <th></th>\n",
       "      <th></th>\n",
       "      <th></th>\n",
       "      <th></th>\n",
       "      <th></th>\n",
       "      <th></th>\n",
       "      <th></th>\n",
       "      <th></th>\n",
       "      <th></th>\n",
       "      <th></th>\n",
       "      <th></th>\n",
       "      <th></th>\n",
       "      <th></th>\n",
       "    </tr>\n",
       "  </thead>\n",
       "  <tbody>\n",
       "    <tr>\n",
       "      <th>2019-10-18</th>\n",
       "      <td>AXISBANK</td>\n",
       "      <td>EQ</td>\n",
       "      <td>2019-10-18</td>\n",
       "      <td>710.30</td>\n",
       "      <td>709.85</td>\n",
       "      <td>715.7</td>\n",
       "      <td>705.25</td>\n",
       "      <td>710.35</td>\n",
       "      <td>709.55</td>\n",
       "      <td>710.02</td>\n",
       "      <td>9500635</td>\n",
       "      <td>6.745626e+09</td>\n",
       "      <td>104518</td>\n",
       "      <td>2654760</td>\n",
       "      <td>27.94</td>\n",
       "    </tr>\n",
       "    <tr>\n",
       "      <th>2019-10-22</th>\n",
       "      <td>AXISBANK</td>\n",
       "      <td>EQ</td>\n",
       "      <td>2019-10-22</td>\n",
       "      <td>709.55</td>\n",
       "      <td>712.40</td>\n",
       "      <td>723.0</td>\n",
       "      <td>703.30</td>\n",
       "      <td>713.25</td>\n",
       "      <td>712.75</td>\n",
       "      <td>715.70</td>\n",
       "      <td>9704016</td>\n",
       "      <td>6.945190e+09</td>\n",
       "      <td>173046</td>\n",
       "      <td>3447622</td>\n",
       "      <td>35.53</td>\n",
       "    </tr>\n",
       "  </tbody>\n",
       "</table>\n",
       "</div>"
      ],
      "text/plain": [
       "              Symbol Series       Date  Prev Close  Open Price  High Price  \\\n",
       "Date                                                                         \n",
       "2019-10-18  AXISBANK     EQ 2019-10-18      710.30      709.85       715.7   \n",
       "2019-10-22  AXISBANK     EQ 2019-10-22      709.55      712.40       723.0   \n",
       "\n",
       "            Low Price  Last Price  Close Price  Average Price  \\\n",
       "Date                                                            \n",
       "2019-10-18     705.25      710.35       709.55         710.02   \n",
       "2019-10-22     703.30      713.25       712.75         715.70   \n",
       "\n",
       "            Total Traded Quantity      Turnover  No. of Trades  \\\n",
       "Date                                                             \n",
       "2019-10-18                9500635  6.745626e+09         104518   \n",
       "2019-10-22                9704016  6.945190e+09         173046   \n",
       "\n",
       "            Deliverable Qty  % Dly Qt to Traded Qty  \n",
       "Date                                                 \n",
       "2019-10-18          2654760                   27.94  \n",
       "2019-10-22          3447622                   35.53  "
      ]
     },
     "execution_count": 54,
     "metadata": {},
     "output_type": "execute_result"
    }
   ],
   "source": [
    "data.head(2)"
   ]
  },
  {
   "cell_type": "code",
   "execution_count": 55,
   "metadata": {},
   "outputs": [],
   "source": [
    "from sklearn.preprocessing import MinMaxScaler"
   ]
  },
  {
   "cell_type": "code",
   "execution_count": 56,
   "metadata": {},
   "outputs": [],
   "source": [
    "from tensorflow.keras.layers import Dense, LSTM, Dropout\n",
    "from tensorflow.keras.models import Sequential"
   ]
  },
  {
   "cell_type": "code",
   "execution_count": 57,
   "metadata": {},
   "outputs": [],
   "source": [
    "new_data1.drop('ds',axis=1,inplace=True)"
   ]
  },
  {
   "cell_type": "code",
   "execution_count": 58,
   "metadata": {},
   "outputs": [
    {
     "data": {
      "text/html": [
       "<div>\n",
       "<style scoped>\n",
       "    .dataframe tbody tr th:only-of-type {\n",
       "        vertical-align: middle;\n",
       "    }\n",
       "\n",
       "    .dataframe tbody tr th {\n",
       "        vertical-align: top;\n",
       "    }\n",
       "\n",
       "    .dataframe thead th {\n",
       "        text-align: right;\n",
       "    }\n",
       "</style>\n",
       "<table border=\"1\" class=\"dataframe\">\n",
       "  <thead>\n",
       "    <tr style=\"text-align: right;\">\n",
       "      <th></th>\n",
       "      <th>y</th>\n",
       "    </tr>\n",
       "    <tr>\n",
       "      <th>Date</th>\n",
       "      <th></th>\n",
       "    </tr>\n",
       "  </thead>\n",
       "  <tbody>\n",
       "    <tr>\n",
       "      <th>2019-10-18</th>\n",
       "      <td>709.55</td>\n",
       "    </tr>\n",
       "    <tr>\n",
       "      <th>2019-10-22</th>\n",
       "      <td>712.75</td>\n",
       "    </tr>\n",
       "    <tr>\n",
       "      <th>2019-10-23</th>\n",
       "      <td>714.85</td>\n",
       "    </tr>\n",
       "  </tbody>\n",
       "</table>\n",
       "</div>"
      ],
      "text/plain": [
       "                 y\n",
       "Date              \n",
       "2019-10-18  709.55\n",
       "2019-10-22  712.75\n",
       "2019-10-23  714.85"
      ]
     },
     "execution_count": 58,
     "metadata": {},
     "output_type": "execute_result"
    }
   ],
   "source": [
    "new_data1.head(3)"
   ]
  },
  {
   "cell_type": "code",
   "execution_count": 59,
   "metadata": {},
   "outputs": [
    {
     "data": {
      "text/plain": [
       "<AxesSubplot:xlabel='Date'>"
      ]
     },
     "execution_count": 59,
     "metadata": {},
     "output_type": "execute_result"
    },
    {
     "data": {
      "image/png": "[encoded data removed]",
      "text/plain": [
       "<Figure size 1440x720 with 1 Axes>"
      ]
     },
     "metadata": {
      "needs_background": "light"
     },
     "output_type": "display_data"
    }
   ],
   "source": [
    "new_data1.plot()"
   ]
  },
  {
   "cell_type": "code",
   "execution_count": 60,
   "metadata": {},
   "outputs": [
    {
     "data": {
      "text/plain": [
       "250"
      ]
     },
     "execution_count": 60,
     "metadata": {},
     "output_type": "execute_result"
    }
   ],
   "source": [
    "#Splitting in into training and testing set \n",
    "len(new_data1)"
   ]
  },
  {
   "cell_type": "code",
   "execution_count": 61,
   "metadata": {},
   "outputs": [],
   "source": [
    "test_index = 200"
   ]
  },
  {
   "cell_type": "code",
   "execution_count": 62,
   "metadata": {},
   "outputs": [],
   "source": [
    "train_lstm = new_data1[:test_index]\n",
    "test_lstm  = new_data1[test_index:]"
   ]
  },
  {
   "cell_type": "code",
   "execution_count": 63,
   "metadata": {},
   "outputs": [
    {
     "data": {
      "text/plain": [
       "(200, 1)"
      ]
     },
     "execution_count": 63,
     "metadata": {},
     "output_type": "execute_result"
    }
   ],
   "source": [
    "train_lstm.shape"
   ]
  },
  {
   "cell_type": "code",
   "execution_count": 64,
   "metadata": {},
   "outputs": [
    {
     "data": {
      "text/plain": [
       "(50, 1)"
      ]
     },
     "execution_count": 64,
     "metadata": {},
     "output_type": "execute_result"
    }
   ],
   "source": [
    "test_lstm.shape"
   ]
  },
  {
   "cell_type": "code",
   "execution_count": 65,
   "metadata": {},
   "outputs": [],
   "source": [
    "#Preprocessing the data\n",
    "scaler_lstm = MinMaxScaler()"
   ]
  },
  {
   "cell_type": "code",
   "execution_count": 66,
   "metadata": {},
   "outputs": [
    {
     "data": {
      "text/plain": [
       "MinMaxScaler()"
      ]
     },
     "execution_count": 66,
     "metadata": {},
     "output_type": "execute_result"
    }
   ],
   "source": [
    "scaler_lstm.fit(train_lstm)"
   ]
  },
  {
   "cell_type": "code",
   "execution_count": 67,
   "metadata": {},
   "outputs": [],
   "source": [
    "scaled_train = scaler_lstm.transform(train_lstm)\n",
    "scaled_test  = scaler_lstm.transform(test_lstm)"
   ]
  },
  {
   "cell_type": "code",
   "execution_count": 68,
   "metadata": {},
   "outputs": [
    {
     "data": {
      "text/plain": [
       "array([[0.8892779 ],\n",
       "       [0.89628009],\n",
       "       [0.90087527],\n",
       "       [0.88522976],\n",
       "       [0.88719912],\n",
       "       [0.8904814 ],\n",
       "       [0.95251641],\n",
       "       [0.97210066],\n",
       "       [0.94792123],\n",
       "       [0.97407002],\n",
       "       [0.96159737],\n",
       "       [0.95164114],\n",
       "       [0.97177243],\n",
       "       [0.94442013],\n",
       "       [0.92417943],\n",
       "       [0.94212254],\n",
       "       [0.8928884 ],\n",
       "       [0.90317287],\n",
       "       [0.90536105],\n",
       "       [0.91859956],\n",
       "       [0.97297593],\n",
       "       [0.9750547 ],\n",
       "       [0.95021882],\n",
       "       [0.93862144],\n",
       "       [0.98818381],\n",
       "       [0.98271335],\n",
       "       [0.98413567],\n",
       "       [0.97910284],\n",
       "       [0.95382932],\n",
       "       [0.96531729],\n",
       "       [0.94146608],\n",
       "       [0.95557987],\n",
       "       [0.93238512],\n",
       "       [0.90689278],\n",
       "       [0.93840263],\n",
       "       [0.90273523],\n",
       "       [0.90459519],\n",
       "       [0.91673961],\n",
       "       [0.9821663 ],\n",
       "       [0.97177243],\n",
       "       [0.96827133],\n",
       "       [0.95995624],\n",
       "       [0.96148796],\n",
       "       [0.95557987],\n",
       "       [0.96280088],\n",
       "       [0.95733042],\n",
       "       [0.94824945],\n",
       "       [1.        ],\n",
       "       [0.98676149],\n",
       "       [0.98676149],\n",
       "       [0.9749453 ],\n",
       "       [0.99299781],\n",
       "       [0.96236324],\n",
       "       [0.91925602],\n",
       "       [0.92472648],\n",
       "       [0.92199125],\n",
       "       [0.96214442],\n",
       "       [0.95601751],\n",
       "       [0.95021882],\n",
       "       [0.97319475],\n",
       "       [0.96969365],\n",
       "       [0.95      ],\n",
       "       [0.95568928],\n",
       "       [0.92789934],\n",
       "       [0.90689278],\n",
       "       [0.89595186],\n",
       "       [0.91870897],\n",
       "       [0.95021882],\n",
       "       [0.95645514],\n",
       "       [0.94967177],\n",
       "       [0.94551422],\n",
       "       [0.93599562],\n",
       "       [0.93249453],\n",
       "       [0.88030635],\n",
       "       [0.88796499],\n",
       "       [0.9012035 ],\n",
       "       [0.92100656],\n",
       "       [0.94923414],\n",
       "       [0.97374179],\n",
       "       [0.9583151 ],\n",
       "       [0.97768053],\n",
       "       [0.9892779 ],\n",
       "       [0.97297593],\n",
       "       [0.94824945],\n",
       "       [0.952407  ],\n",
       "       [0.94201313],\n",
       "       [0.95820569],\n",
       "       [0.96531729],\n",
       "       [0.92407002],\n",
       "       [0.93129103],\n",
       "       [0.93271335],\n",
       "       [0.94682713],\n",
       "       [0.86247265],\n",
       "       [0.83380744],\n",
       "       [0.84026258],\n",
       "       [0.82943107],\n",
       "       [0.82002188],\n",
       "       [0.77571116],\n",
       "       [0.70109409],\n",
       "       [0.69190372],\n",
       "       [0.52538293],\n",
       "       [0.58129103],\n",
       "       [0.44956236],\n",
       "       [0.40525164],\n",
       "       [0.3726477 ],\n",
       "       [0.27374179],\n",
       "       [0.27352298],\n",
       "       [0.01203501],\n",
       "       [0.        ],\n",
       "       [0.05175055],\n",
       "       [0.08369803],\n",
       "       [0.1238512 ],\n",
       "       [0.14223195],\n",
       "       [0.16597374],\n",
       "       [0.1214442 ],\n",
       "       [0.0487965 ],\n",
       "       [0.18752735],\n",
       "       [0.19299781],\n",
       "       [0.25601751],\n",
       "       [0.25339168],\n",
       "       [0.24978118],\n",
       "       [0.26126915],\n",
       "       [0.38435449],\n",
       "       [0.33435449],\n",
       "       [0.2571116 ],\n",
       "       [0.28008753],\n",
       "       [0.27768053],\n",
       "       [0.22056893],\n",
       "       [0.27166302],\n",
       "       [0.33326039],\n",
       "       [0.29748359],\n",
       "       [0.31017505],\n",
       "       [0.21805252],\n",
       "       [0.18785558],\n",
       "       [0.18752735],\n",
       "       [0.20612691],\n",
       "       [0.1726477 ],\n",
       "       [0.16717724],\n",
       "       [0.18315098],\n",
       "       [0.24256018],\n",
       "       [0.21619256],\n",
       "       [0.1868709 ],\n",
       "       [0.12177243],\n",
       "       [0.11236324],\n",
       "       [0.12986871],\n",
       "       [0.11827133],\n",
       "       [0.07396061],\n",
       "       [0.08347921],\n",
       "       [0.18347921],\n",
       "       [0.19212254],\n",
       "       [0.17899344],\n",
       "       [0.20525164],\n",
       "       [0.23402626],\n",
       "       [0.23282276],\n",
       "       [0.19956236],\n",
       "       [0.22352298],\n",
       "       [0.27811816],\n",
       "       [0.25579869],\n",
       "       [0.27199125],\n",
       "       [0.24135667],\n",
       "       [0.22943107],\n",
       "       [0.18916849],\n",
       "       [0.17155361],\n",
       "       [0.18916849],\n",
       "       [0.22374179],\n",
       "       [0.24923414],\n",
       "       [0.27789934],\n",
       "       [0.30743982],\n",
       "       [0.26586433],\n",
       "       [0.25940919],\n",
       "       [0.26630197],\n",
       "       [0.22242888],\n",
       "       [0.22647702],\n",
       "       [0.28468271],\n",
       "       [0.26269147],\n",
       "       [0.27417943],\n",
       "       [0.28632385],\n",
       "       [0.31553611],\n",
       "       [0.30853392],\n",
       "       [0.32954048],\n",
       "       [0.29857768],\n",
       "       [0.29956236],\n",
       "       [0.25065646],\n",
       "       [0.2702407 ],\n",
       "       [0.28632385],\n",
       "       [0.28435449],\n",
       "       [0.28632385],\n",
       "       [0.31301969],\n",
       "       [0.38468271],\n",
       "       [0.34507659],\n",
       "       [0.31170678],\n",
       "       [0.2809628 ],\n",
       "       [0.29299781],\n",
       "       [0.30142232],\n",
       "       [0.26849015],\n",
       "       [0.28118162],\n",
       "       [0.24989059],\n",
       "       [0.27571116],\n",
       "       [0.28840263],\n",
       "       [0.28413567]])"
      ]
     },
     "execution_count": 68,
     "metadata": {},
     "output_type": "execute_result"
    }
   ],
   "source": [
    "scaled_train"
   ]
  },
  {
   "cell_type": "code",
   "execution_count": 69,
   "metadata": {},
   "outputs": [],
   "source": [
    "# let us produce batches of train and test using TimeSeriesGenerator\n",
    "from tensorflow.keras.preprocessing.sequence import TimeseriesGenerator"
   ]
  },
  {
   "cell_type": "code",
   "execution_count": 70,
   "metadata": {},
   "outputs": [],
   "source": [
    "length = 20 #approx one month \n",
    "generator = TimeseriesGenerator(scaled_train,scaled_train,length=length,batch_size=1)"
   ]
  },
  {
   "cell_type": "code",
   "execution_count": 71,
   "metadata": {},
   "outputs": [
    {
     "data": {
      "text/plain": [
       "(array([[[0.8892779 ],\n",
       "         [0.89628009],\n",
       "         [0.90087527],\n",
       "         [0.88522976],\n",
       "         [0.88719912],\n",
       "         [0.8904814 ],\n",
       "         [0.95251641],\n",
       "         [0.97210066],\n",
       "         [0.94792123],\n",
       "         [0.97407002],\n",
       "         [0.96159737],\n",
       "         [0.95164114],\n",
       "         [0.97177243],\n",
       "         [0.94442013],\n",
       "         [0.92417943],\n",
       "         [0.94212254],\n",
       "         [0.8928884 ],\n",
       "         [0.90317287],\n",
       "         [0.90536105],\n",
       "         [0.91859956]]]),\n",
       " array([[0.97297593]]))"
      ]
     },
     "execution_count": 71,
     "metadata": {},
     "output_type": "execute_result"
    }
   ],
   "source": [
    "generator[0]"
   ]
  },
  {
   "cell_type": "code",
   "execution_count": 72,
   "metadata": {
    "scrolled": true
   },
   "outputs": [
    {
     "data": {
      "text/plain": [
       "(array([[[0.89628009],\n",
       "         [0.90087527],\n",
       "         [0.88522976],\n",
       "         [0.88719912],\n",
       "         [0.8904814 ],\n",
       "         [0.95251641],\n",
       "         [0.97210066],\n",
       "         [0.94792123],\n",
       "         [0.97407002],\n",
       "         [0.96159737],\n",
       "         [0.95164114],\n",
       "         [0.97177243],\n",
       "         [0.94442013],\n",
       "         [0.92417943],\n",
       "         [0.94212254],\n",
       "         [0.8928884 ],\n",
       "         [0.90317287],\n",
       "         [0.90536105],\n",
       "         [0.91859956],\n",
       "         [0.97297593]]]),\n",
       " array([[0.9750547]]))"
      ]
     },
     "execution_count": 72,
     "metadata": {},
     "output_type": "execute_result"
    }
   ],
   "source": [
    "generator[1]"
   ]
  },
  {
   "cell_type": "code",
   "execution_count": 73,
   "metadata": {},
   "outputs": [
    {
     "data": {
      "text/plain": [
       "180"
      ]
     },
     "execution_count": 73,
     "metadata": {},
     "output_type": "execute_result"
    }
   ],
   "source": [
    "len(generator)"
   ]
  },
  {
   "cell_type": "code",
   "execution_count": 74,
   "metadata": {},
   "outputs": [],
   "source": [
    "n_features = 1"
   ]
  },
  {
   "cell_type": "code",
   "execution_count": 75,
   "metadata": {},
   "outputs": [],
   "source": [
    "model1 = Sequential()\n",
    "model1.add(LSTM(100,return_sequences=True,input_shape=(length,n_features)))\n",
    "model1.add(LSTM(100,))\n",
    "model1.add(Dense(1))\n",
    "model1.compile(optimizer='adam',loss='mse')"
   ]
  },
  {
   "cell_type": "code",
   "execution_count": 76,
   "metadata": {},
   "outputs": [
    {
     "name": "stdout",
     "output_type": "stream",
     "text": [
      "Model: \"sequential\"\n",
      "_________________________________________________________________\n",
      "Layer (type)                 Output Shape              Param #   \n",
      "=================================================================\n",
      "lstm (LSTM)                  (None, 20, 100)           40800     \n",
      "_________________________________________________________________\n",
      "lstm_1 (LSTM)                (None, 100)               80400     \n",
      "_________________________________________________________________\n",
      "dense (Dense)                (None, 1)                 101       \n",
      "=================================================================\n",
      "Total params: 121,301\n",
      "Trainable params: 121,301\n",
      "Non-trainable params: 0\n",
      "_________________________________________________________________\n"
     ]
    }
   ],
   "source": [
    "model1.summary()"
   ]
  },
  {
   "cell_type": "markdown",
   "metadata": {},
   "source": [
    "### EarlyStopping and creating Validation Generator"
   ]
  },
  {
   "cell_type": "code",
   "execution_count": 77,
   "metadata": {},
   "outputs": [],
   "source": [
    "from tensorflow.keras.callbacks import EarlyStopping"
   ]
  },
  {
   "cell_type": "code",
   "execution_count": 78,
   "metadata": {},
   "outputs": [],
   "source": [
    "early_stop = EarlyStopping(monitor='val_loss',patience=3,restore_best_weights=True)"
   ]
  },
  {
   "cell_type": "code",
   "execution_count": 79,
   "metadata": {},
   "outputs": [],
   "source": [
    "validation_generator = TimeseriesGenerator(scaled_test,scaled_test,length=length,batch_size=1)"
   ]
  },
  {
   "cell_type": "code",
   "execution_count": 80,
   "metadata": {},
   "outputs": [
    {
     "name": "stdout",
     "output_type": "stream",
     "text": [
      "Epoch 1/20\n",
      "180/180 [==============================] - 7s 41ms/step - loss: 0.0264 - val_loss: 0.0019\n",
      "Epoch 2/20\n",
      "180/180 [==============================] - 5s 31ms/step - loss: 0.0090 - val_loss: 0.0015\n",
      "Epoch 3/20\n",
      "180/180 [==============================] - 6s 34ms/step - loss: 0.0059 - val_loss: 0.0014\n",
      "Epoch 4/20\n",
      "180/180 [==============================] - 6s 34ms/step - loss: 0.0039 - val_loss: 0.0025\n",
      "Epoch 5/20\n",
      "180/180 [==============================] - 6s 34ms/step - loss: 0.0044 - val_loss: 0.0023\n",
      "Epoch 6/20\n",
      "180/180 [==============================] - 6s 33ms/step - loss: 0.0041 - val_loss: 0.0014\n",
      "Epoch 7/20\n",
      "180/180 [==============================] - 6s 34ms/step - loss: 0.0032 - val_loss: 0.0016\n",
      "Epoch 8/20\n",
      "180/180 [==============================] - 6s 34ms/step - loss: 0.0038 - val_loss: 0.0011\n",
      "Epoch 9/20\n",
      "180/180 [==============================] - 6s 31ms/step - loss: 0.0048 - val_loss: 0.0013\n",
      "Epoch 10/20\n",
      "180/180 [==============================] - 4s 25ms/step - loss: 0.0033 - val_loss: 0.0012\n",
      "Epoch 11/20\n",
      "180/180 [==============================] - 5s 27ms/step - loss: 0.0036 - val_loss: 0.0012\n"
     ]
    },
    {
     "data": {
      "text/plain": [
       "<tensorflow.python.keras.callbacks.History at 0x13ee098cd60>"
      ]
     },
     "execution_count": 80,
     "metadata": {},
     "output_type": "execute_result"
    }
   ],
   "source": [
    "model1.fit(generator,epochs=20,verbose=1,callbacks=[early_stop],validation_data=validation_generator)"
   ]
  },
  {
   "cell_type": "code",
   "execution_count": 81,
   "metadata": {},
   "outputs": [],
   "source": [
    "losses = pd.DataFrame(model1.history.history)"
   ]
  },
  {
   "cell_type": "code",
   "execution_count": 82,
   "metadata": {},
   "outputs": [
    {
     "data": {
      "text/plain": [
       "<AxesSubplot:>"
      ]
     },
     "execution_count": 82,
     "metadata": {},
     "output_type": "execute_result"
    },
    {
     "data": {
      "image/png": "[encoded data removed]",
      "text/plain": [
       "<Figure size 1440x720 with 1 Axes>"
      ]
     },
     "metadata": {
      "needs_background": "light"
     },
     "output_type": "display_data"
    }
   ],
   "source": [
    "losses.plot()"
   ]
  },
  {
   "cell_type": "markdown",
   "metadata": {},
   "source": [
    "### Evaluation on test Data"
   ]
  },
  {
   "cell_type": "code",
   "execution_count": 83,
   "metadata": {},
   "outputs": [],
   "source": [
    "first_eval_batch = scaled_train[-length:]"
   ]
  },
  {
   "cell_type": "code",
   "execution_count": 84,
   "metadata": {
    "scrolled": true
   },
   "outputs": [
    {
     "data": {
      "text/plain": [
       "array([[0.29857768],\n",
       "       [0.29956236],\n",
       "       [0.25065646],\n",
       "       [0.2702407 ],\n",
       "       [0.28632385],\n",
       "       [0.28435449],\n",
       "       [0.28632385],\n",
       "       [0.31301969],\n",
       "       [0.38468271],\n",
       "       [0.34507659],\n",
       "       [0.31170678],\n",
       "       [0.2809628 ],\n",
       "       [0.29299781],\n",
       "       [0.30142232],\n",
       "       [0.26849015],\n",
       "       [0.28118162],\n",
       "       [0.24989059],\n",
       "       [0.27571116],\n",
       "       [0.28840263],\n",
       "       [0.28413567]])"
      ]
     },
     "execution_count": 84,
     "metadata": {},
     "output_type": "execute_result"
    }
   ],
   "source": [
    "first_eval_batch"
   ]
  },
  {
   "cell_type": "code",
   "execution_count": 85,
   "metadata": {},
   "outputs": [],
   "source": [
    "first_eval_batch = first_eval_batch.reshape(1,length,n_features)"
   ]
  },
  {
   "cell_type": "code",
   "execution_count": 86,
   "metadata": {},
   "outputs": [
    {
     "data": {
      "text/plain": [
       "array([0.2793143], dtype=float32)"
      ]
     },
     "execution_count": 86,
     "metadata": {},
     "output_type": "execute_result"
    }
   ],
   "source": [
    "model1.predict(first_eval_batch)[0]"
   ]
  },
  {
   "cell_type": "code",
   "execution_count": 87,
   "metadata": {},
   "outputs": [
    {
     "data": {
      "text/plain": [
       "array([0.28479212])"
      ]
     },
     "execution_count": 87,
     "metadata": {},
     "output_type": "execute_result"
    }
   ],
   "source": [
    "scaled_test[0]"
   ]
  },
  {
   "cell_type": "code",
   "execution_count": 88,
   "metadata": {},
   "outputs": [],
   "source": [
    "#will put the above code in loop to predict for all the future test set"
   ]
  },
  {
   "cell_type": "code",
   "execution_count": 89,
   "metadata": {},
   "outputs": [],
   "source": [
    "test_predictions = []\n",
    "\n",
    "first_eval_batch = scaled_train[-length:]\n",
    "current_batch = first_eval_batch.reshape(1,length,n_features)\n",
    "\n",
    "for i in range(len(scaled_test)):\n",
    "    \n",
    "    current_pred = model1.predict(current_batch)[0]\n",
    "    \n",
    "    test_predictions.append(current_pred)\n",
    "    \n",
    "    current_batch = np.append(current_batch[:,1:,:],[[scaled_test[i]]],axis=1)\n",
    "    "
   ]
  },
  {
   "cell_type": "code",
   "execution_count": 90,
   "metadata": {},
   "outputs": [
    {
     "data": {
      "text/plain": [
       "[[array([0.37035011])]]"
      ]
     },
     "execution_count": 90,
     "metadata": {},
     "output_type": "execute_result"
    }
   ],
   "source": [
    "[[scaled_test[i]]]"
   ]
  },
  {
   "cell_type": "code",
   "execution_count": 91,
   "metadata": {},
   "outputs": [
    {
     "data": {
      "text/plain": [
       "array([0.36476195], dtype=float32)"
      ]
     },
     "execution_count": 91,
     "metadata": {},
     "output_type": "execute_result"
    }
   ],
   "source": [
    "test_predictions[-1]"
   ]
  },
  {
   "cell_type": "code",
   "execution_count": 92,
   "metadata": {},
   "outputs": [],
   "source": [
    "true_predictions = scaler_lstm.inverse_transform(test_predictions)"
   ]
  },
  {
   "cell_type": "code",
   "execution_count": 93,
   "metadata": {},
   "outputs": [
    {
     "data": {
      "text/plain": [
       "(50, 1)"
      ]
     },
     "execution_count": 93,
     "metadata": {},
     "output_type": "execute_result"
    }
   ],
   "source": [
    "true_predictions.shape"
   ]
  },
  {
   "cell_type": "code",
   "execution_count": 94,
   "metadata": {},
   "outputs": [
    {
     "data": {
      "text/html": [
       "<div>\n",
       "<style scoped>\n",
       "    .dataframe tbody tr th:only-of-type {\n",
       "        vertical-align: middle;\n",
       "    }\n",
       "\n",
       "    .dataframe tbody tr th {\n",
       "        vertical-align: top;\n",
       "    }\n",
       "\n",
       "    .dataframe thead th {\n",
       "        text-align: right;\n",
       "    }\n",
       "</style>\n",
       "<table border=\"1\" class=\"dataframe\">\n",
       "  <thead>\n",
       "    <tr style=\"text-align: right;\">\n",
       "      <th></th>\n",
       "      <th>y</th>\n",
       "    </tr>\n",
       "    <tr>\n",
       "      <th>Date</th>\n",
       "      <th></th>\n",
       "    </tr>\n",
       "  </thead>\n",
       "  <tbody>\n",
       "    <tr>\n",
       "      <th>2019-10-18</th>\n",
       "      <td>709.55</td>\n",
       "    </tr>\n",
       "    <tr>\n",
       "      <th>2019-10-22</th>\n",
       "      <td>712.75</td>\n",
       "    </tr>\n",
       "    <tr>\n",
       "      <th>2019-10-23</th>\n",
       "      <td>714.85</td>\n",
       "    </tr>\n",
       "    <tr>\n",
       "      <th>2019-10-24</th>\n",
       "      <td>707.7</td>\n",
       "    </tr>\n",
       "    <tr>\n",
       "      <th>2019-10-25</th>\n",
       "      <td>708.6</td>\n",
       "    </tr>\n",
       "  </tbody>\n",
       "</table>\n",
       "</div>"
      ],
      "text/plain": [
       "                 y\n",
       "Date              \n",
       "2019-10-18  709.55\n",
       "2019-10-22  712.75\n",
       "2019-10-23  714.85\n",
       "2019-10-24   707.7\n",
       "2019-10-25   708.6"
      ]
     },
     "execution_count": 94,
     "metadata": {},
     "output_type": "execute_result"
    }
   ],
   "source": [
    "new_data1.head()"
   ]
  },
  {
   "cell_type": "code",
   "execution_count": 95,
   "metadata": {},
   "outputs": [
    {
     "data": {
      "text/html": [
       "<div>\n",
       "<style scoped>\n",
       "    .dataframe tbody tr th:only-of-type {\n",
       "        vertical-align: middle;\n",
       "    }\n",
       "\n",
       "    .dataframe tbody tr th {\n",
       "        vertical-align: top;\n",
       "    }\n",
       "\n",
       "    .dataframe thead th {\n",
       "        text-align: right;\n",
       "    }\n",
       "</style>\n",
       "<table border=\"1\" class=\"dataframe\">\n",
       "  <thead>\n",
       "    <tr style=\"text-align: right;\">\n",
       "      <th></th>\n",
       "      <th>y</th>\n",
       "    </tr>\n",
       "    <tr>\n",
       "      <th>Date</th>\n",
       "      <th></th>\n",
       "    </tr>\n",
       "  </thead>\n",
       "  <tbody>\n",
       "    <tr>\n",
       "      <th>2020-08-07</th>\n",
       "      <td>433.3</td>\n",
       "    </tr>\n",
       "    <tr>\n",
       "      <th>2020-08-10</th>\n",
       "      <td>431.1</td>\n",
       "    </tr>\n",
       "    <tr>\n",
       "      <th>2020-08-11</th>\n",
       "      <td>448</td>\n",
       "    </tr>\n",
       "    <tr>\n",
       "      <th>2020-08-12</th>\n",
       "      <td>451.1</td>\n",
       "    </tr>\n",
       "    <tr>\n",
       "      <th>2020-08-13</th>\n",
       "      <td>448.1</td>\n",
       "    </tr>\n",
       "  </tbody>\n",
       "</table>\n",
       "</div>"
      ],
      "text/plain": [
       "                y\n",
       "Date             \n",
       "2020-08-07  433.3\n",
       "2020-08-10  431.1\n",
       "2020-08-11    448\n",
       "2020-08-12  451.1\n",
       "2020-08-13  448.1"
      ]
     },
     "execution_count": 95,
     "metadata": {},
     "output_type": "execute_result"
    }
   ],
   "source": [
    "test_lstm.head()"
   ]
  },
  {
   "cell_type": "code",
   "execution_count": 96,
   "metadata": {},
   "outputs": [
    {
     "name": "stderr",
     "output_type": "stream",
     "text": [
      "<ipython-input-96-ad57756ad8e4>:1: SettingWithCopyWarning: \n",
      "A value is trying to be set on a copy of a slice from a DataFrame.\n",
      "Try using .loc[row_indexer,col_indexer] = value instead\n",
      "\n",
      "See the caveats in the documentation: https://pandas.pydata.org/pandas-docs/stable/user_guide/indexing.html#returning-a-view-versus-a-copy\n",
      "  test_lstm['Lstm Predictions'] = true_predictions\n"
     ]
    }
   ],
   "source": [
    "test_lstm['Lstm Predictions'] = true_predictions"
   ]
  },
  {
   "cell_type": "code",
   "execution_count": 97,
   "metadata": {},
   "outputs": [
    {
     "data": {
      "text/html": [
       "<div>\n",
       "<style scoped>\n",
       "    .dataframe tbody tr th:only-of-type {\n",
       "        vertical-align: middle;\n",
       "    }\n",
       "\n",
       "    .dataframe tbody tr th {\n",
       "        vertical-align: top;\n",
       "    }\n",
       "\n",
       "    .dataframe thead th {\n",
       "        text-align: right;\n",
       "    }\n",
       "</style>\n",
       "<table border=\"1\" class=\"dataframe\">\n",
       "  <thead>\n",
       "    <tr style=\"text-align: right;\">\n",
       "      <th></th>\n",
       "      <th>y</th>\n",
       "      <th>Lstm Predictions</th>\n",
       "    </tr>\n",
       "    <tr>\n",
       "      <th>Date</th>\n",
       "      <th></th>\n",
       "      <th></th>\n",
       "    </tr>\n",
       "  </thead>\n",
       "  <tbody>\n",
       "    <tr>\n",
       "      <th>2020-08-07</th>\n",
       "      <td>433.3</td>\n",
       "      <td>430.796639</td>\n",
       "    </tr>\n",
       "    <tr>\n",
       "      <th>2020-08-10</th>\n",
       "      <td>431.1</td>\n",
       "      <td>433.680821</td>\n",
       "    </tr>\n",
       "    <tr>\n",
       "      <th>2020-08-11</th>\n",
       "      <td>448</td>\n",
       "      <td>435.300443</td>\n",
       "    </tr>\n",
       "    <tr>\n",
       "      <th>2020-08-12</th>\n",
       "      <td>451.1</td>\n",
       "      <td>440.474607</td>\n",
       "    </tr>\n",
       "    <tr>\n",
       "      <th>2020-08-13</th>\n",
       "      <td>448.1</td>\n",
       "      <td>446.657852</td>\n",
       "    </tr>\n",
       "  </tbody>\n",
       "</table>\n",
       "</div>"
      ],
      "text/plain": [
       "                y  Lstm Predictions\n",
       "Date                               \n",
       "2020-08-07  433.3        430.796639\n",
       "2020-08-10  431.1        433.680821\n",
       "2020-08-11    448        435.300443\n",
       "2020-08-12  451.1        440.474607\n",
       "2020-08-13  448.1        446.657852"
      ]
     },
     "execution_count": 97,
     "metadata": {},
     "output_type": "execute_result"
    }
   ],
   "source": [
    "test_lstm.head()"
   ]
  },
  {
   "cell_type": "code",
   "execution_count": 98,
   "metadata": {},
   "outputs": [
    {
     "data": {
      "text/plain": [
       "<AxesSubplot:xlabel='Date'>"
      ]
     },
     "execution_count": 98,
     "metadata": {},
     "output_type": "execute_result"
    },
    {
     "data": {
      "image/png": "[encoded data removed]",
      "text/plain": [
       "<Figure size 1440x720 with 1 Axes>"
      ]
     },
     "metadata": {
      "needs_background": "light"
     },
     "output_type": "display_data"
    }
   ],
   "source": [
    "ax = new_data1.plot()\n",
    "test_lstm.plot(ax=ax)"
   ]
  },
  {
   "cell_type": "code",
   "execution_count": 99,
   "metadata": {},
   "outputs": [
    {
     "data": {
      "text/html": [
       "<div>\n",
       "<style scoped>\n",
       "    .dataframe tbody tr th:only-of-type {\n",
       "        vertical-align: middle;\n",
       "    }\n",
       "\n",
       "    .dataframe tbody tr th {\n",
       "        vertical-align: top;\n",
       "    }\n",
       "\n",
       "    .dataframe thead th {\n",
       "        text-align: right;\n",
       "    }\n",
       "</style>\n",
       "<table border=\"1\" class=\"dataframe\">\n",
       "  <thead>\n",
       "    <tr style=\"text-align: right;\">\n",
       "      <th></th>\n",
       "      <th>y</th>\n",
       "      <th>Lstm Predictions</th>\n",
       "    </tr>\n",
       "    <tr>\n",
       "      <th>Date</th>\n",
       "      <th></th>\n",
       "      <th></th>\n",
       "    </tr>\n",
       "  </thead>\n",
       "  <tbody>\n",
       "    <tr>\n",
       "      <th>2020-08-07</th>\n",
       "      <td>433.3</td>\n",
       "      <td>430.796639</td>\n",
       "    </tr>\n",
       "    <tr>\n",
       "      <th>2020-08-10</th>\n",
       "      <td>431.1</td>\n",
       "      <td>433.680821</td>\n",
       "    </tr>\n",
       "    <tr>\n",
       "      <th>2020-08-11</th>\n",
       "      <td>448</td>\n",
       "      <td>435.300443</td>\n",
       "    </tr>\n",
       "    <tr>\n",
       "      <th>2020-08-12</th>\n",
       "      <td>451.1</td>\n",
       "      <td>440.474607</td>\n",
       "    </tr>\n",
       "    <tr>\n",
       "      <th>2020-08-13</th>\n",
       "      <td>448.1</td>\n",
       "      <td>446.657852</td>\n",
       "    </tr>\n",
       "  </tbody>\n",
       "</table>\n",
       "</div>"
      ],
      "text/plain": [
       "                y  Lstm Predictions\n",
       "Date                               \n",
       "2020-08-07  433.3        430.796639\n",
       "2020-08-10  431.1        433.680821\n",
       "2020-08-11    448        435.300443\n",
       "2020-08-12  451.1        440.474607\n",
       "2020-08-13  448.1        446.657852"
      ]
     },
     "execution_count": 99,
     "metadata": {},
     "output_type": "execute_result"
    }
   ],
   "source": [
    "test_lstm.head()"
   ]
  },
  {
   "cell_type": "code",
   "execution_count": 100,
   "metadata": {},
   "outputs": [
    {
     "data": {
      "text/plain": [
       "20"
      ]
     },
     "execution_count": 100,
     "metadata": {},
     "output_type": "execute_result"
    }
   ],
   "source": [
    "length"
   ]
  },
  {
   "cell_type": "markdown",
   "metadata": {},
   "source": [
    "We will try an LSTM model with just one LSTM layer and 20 cells"
   ]
  },
  {
   "cell_type": "code",
   "execution_count": 101,
   "metadata": {},
   "outputs": [
    {
     "name": "stdout",
     "output_type": "stream",
     "text": [
      "Epoch 1/20\n",
      "180/180 [==============================] - 5s 26ms/step - loss: 0.0347 - val_loss: 0.0019\n",
      "Epoch 2/20\n",
      "180/180 [==============================] - 2s 13ms/step - loss: 0.0090 - val_loss: 0.0030\n",
      "Epoch 3/20\n",
      "180/180 [==============================] - 2s 13ms/step - loss: 0.0073 - val_loss: 0.0015\n",
      "Epoch 4/20\n",
      "180/180 [==============================] - 3s 14ms/step - loss: 0.0050 - val_loss: 0.0028\n",
      "Epoch 5/20\n",
      "180/180 [==============================] - 2s 11ms/step - loss: 0.0040 - val_loss: 0.0020\n",
      "Epoch 6/20\n",
      "180/180 [==============================] - 2s 11ms/step - loss: 0.0040 - val_loss: 0.0013\n",
      "Epoch 7/20\n",
      "180/180 [==============================] - 2s 10ms/step - loss: 0.0037 - val_loss: 0.0012\n",
      "Epoch 8/20\n",
      "180/180 [==============================] - 2s 11ms/step - loss: 0.0032 - val_loss: 0.0012\n",
      "Epoch 9/20\n",
      "180/180 [==============================] - 3s 16ms/step - loss: 0.0028 - val_loss: 0.0014\n",
      "Epoch 10/20\n",
      "180/180 [==============================] - 3s 14ms/step - loss: 0.0032 - val_loss: 0.0013\n",
      "Epoch 11/20\n",
      "180/180 [==============================] - 2s 14ms/step - loss: 0.0030 - val_loss: 0.0014\n"
     ]
    },
    {
     "data": {
      "text/plain": [
       "<tensorflow.python.keras.callbacks.History at 0x13eefdf2d30>"
      ]
     },
     "execution_count": 101,
     "metadata": {},
     "output_type": "execute_result"
    }
   ],
   "source": [
    "model2 = Sequential()\n",
    "model2.add(LSTM(20,input_shape=(length,n_features)))\n",
    "model2.add(Dense(1))\n",
    "model2.compile(optimizer='adam',loss='mse')\n",
    "\n",
    "early_stop = EarlyStopping(monitor='val_loss',patience=3,restore_best_weights=True)\n",
    "validation_generator = TimeseriesGenerator(scaled_test,scaled_test,length=length,batch_size=1)\n",
    "model2.fit(generator,epochs=20,verbose=1,callbacks=[early_stop],validation_data=validation_generator)\n"
   ]
  },
  {
   "cell_type": "code",
   "execution_count": 102,
   "metadata": {},
   "outputs": [
    {
     "name": "stderr",
     "output_type": "stream",
     "text": [
      "<ipython-input-102-83048bd409f4>:16: SettingWithCopyWarning: \n",
      "A value is trying to be set on a copy of a slice from a DataFrame.\n",
      "Try using .loc[row_indexer,col_indexer] = value instead\n",
      "\n",
      "See the caveats in the documentation: https://pandas.pydata.org/pandas-docs/stable/user_guide/indexing.html#returning-a-view-versus-a-copy\n",
      "  test_lstm['Pred_model2'] = true_predictions\n"
     ]
    },
    {
     "data": {
      "text/plain": [
       "<AxesSubplot:xlabel='Date'>"
      ]
     },
     "execution_count": 102,
     "metadata": {},
     "output_type": "execute_result"
    },
    {
     "data": {
      "image/png": "[encoded data removed]",
      "text/plain": [
       "<Figure size 1440x720 with 1 Axes>"
      ]
     },
     "metadata": {
      "needs_background": "light"
     },
     "output_type": "display_data"
    }
   ],
   "source": [
    "test_predictions = []\n",
    "\n",
    "first_eval_batch = scaled_train[-length:]\n",
    "current_batch = first_eval_batch.reshape(1,length,n_features)\n",
    "\n",
    "for i in range(len(scaled_test)):\n",
    "    \n",
    "    current_pred = model2.predict(current_batch)[0]\n",
    "    \n",
    "    test_predictions.append(current_pred)\n",
    "    \n",
    "    current_batch = np.append(current_batch[:,1:,:],[[scaled_test[i]]],axis=1)\n",
    "\n",
    "true_predictions = scaler_lstm.inverse_transform(test_predictions)\n",
    "\n",
    "test_lstm['Pred_model2'] = true_predictions\n",
    "\n",
    "ax = new_data1.plot()\n",
    "test_lstm.plot(ax=ax)"
   ]
  },
  {
   "cell_type": "code",
   "execution_count": 103,
   "metadata": {},
   "outputs": [
    {
     "name": "stderr",
     "output_type": "stream",
     "text": [
      "<ipython-input-103-8a7ea4739f8a>:16: SettingWithCopyWarning: \n",
      "A value is trying to be set on a copy of a slice from a DataFrame.\n",
      "Try using .loc[row_indexer,col_indexer] = value instead\n",
      "\n",
      "See the caveats in the documentation: https://pandas.pydata.org/pandas-docs/stable/user_guide/indexing.html#returning-a-view-versus-a-copy\n",
      "  test_lstm['Pred_model2_current'] = true_predictions\n"
     ]
    },
    {
     "data": {
      "text/plain": [
       "<AxesSubplot:xlabel='Date'>"
      ]
     },
     "execution_count": 103,
     "metadata": {},
     "output_type": "execute_result"
    },
    {
     "data": {
      "image/png": "[encoded data removed]",
      "text/plain": [
       "<Figure size 1440x720 with 1 Axes>"
      ]
     },
     "metadata": {
      "needs_background": "light"
     },
     "output_type": "display_data"
    }
   ],
   "source": [
    "test_predictions = []\n",
    "\n",
    "first_eval_batch = scaled_train[-length:]\n",
    "current_batch = first_eval_batch.reshape(1,length,n_features)\n",
    "\n",
    "for i in range(len(scaled_test)):\n",
    "    \n",
    "    current_pred = model2.predict(current_batch)[0]\n",
    "    \n",
    "    test_predictions.append(current_pred)\n",
    "    \n",
    "    current_batch = np.append(current_batch[:,1:,:],[[current_pred]],axis=1)\n",
    "\n",
    "true_predictions = scaler_lstm.inverse_transform(test_predictions)\n",
    "\n",
    "test_lstm['Pred_model2_current'] = true_predictions\n",
    "\n",
    "ax = new_data1.plot()\n",
    "test_lstm.plot(ax=ax)"
   ]
  },
  {
   "cell_type": "markdown",
   "metadata": {},
   "source": [
    "Thus it can be infered that the model captures the market sentiment for a day and with the real closing price can predict the next days value, this can be taken as a reference for the market trend for that share."
   ]
  }
 ],
 "metadata": {
  "kernelspec": {
   "display_name": "Python 3",
   "language": "python",
   "name": "python3"
  },
  "language_info": {
   "codemirror_mode": {
    "name": "ipython",
    "version": 3
   },
   "file_extension": ".py",
   "mimetype": "text/x-python",
   "name": "python",
   "nbconvert_exporter": "python",
   "pygments_lexer": "ipython3",
   "version": "3.8.5"
  }
 },
 "nbformat": 4,
 "nbformat_minor": 4
}
